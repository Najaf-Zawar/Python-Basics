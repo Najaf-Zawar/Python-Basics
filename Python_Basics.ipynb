{
 "cells": [
  {
   "cell_type": "markdown",
   "id": "efefacb1",
   "metadata": {},
   "source": [
    "# Python Basics Practice"
   ]
  },
  {
   "cell_type": "code",
   "execution_count": 1,
   "id": "8f43b45c",
   "metadata": {},
   "outputs": [
    {
     "name": "stdout",
     "output_type": "stream",
     "text": [
      "Welcome to python for Data Science\n"
     ]
    }
   ],
   "source": [
    "print('Welcome to python for Data Science')"
   ]
  },
  {
   "cell_type": "markdown",
   "id": "2b9b90f6",
   "metadata": {},
   "source": [
    "# Strings"
   ]
  },
  {
   "cell_type": "code",
   "execution_count": 2,
   "id": "3b8c523a",
   "metadata": {},
   "outputs": [
    {
     "name": "stdout",
     "output_type": "stream",
     "text": [
      "Men's World\n"
     ]
    }
   ],
   "source": [
    "message = 'Men\\'s World'\n",
    "print(message)"
   ]
  },
  {
   "cell_type": "code",
   "execution_count": 3,
   "id": "7d597ad4",
   "metadata": {},
   "outputs": [
    {
     "name": "stdout",
     "output_type": "stream",
     "text": [
      "Men's Universe\n"
     ]
    }
   ],
   "source": [
    "message1 = \"Men's Universe\"\n",
    "print(message1)"
   ]
  },
  {
   "cell_type": "code",
   "execution_count": 4,
   "id": "7a1ec0dc",
   "metadata": {},
   "outputs": [
    {
     "name": "stdout",
     "output_type": "stream",
     "text": [
      "11\n"
     ]
    }
   ],
   "source": [
    "message2 = 'Hello Najaf'\n",
    "print(len(message2)) # include Space"
   ]
  },
  {
   "cell_type": "markdown",
   "id": "0c88e55a",
   "metadata": {},
   "source": [
    "# String Slicing"
   ]
  },
  {
   "cell_type": "code",
   "execution_count": 5,
   "id": "77d83752",
   "metadata": {},
   "outputs": [
    {
     "name": "stdout",
     "output_type": "stream",
     "text": [
      "H\n",
      "f\n",
      "Hello\n",
      "Hello\n",
      "Najaf\n"
     ]
    }
   ],
   "source": [
    "print(message2[0])\n",
    "print(message2[-1])\n",
    "print(message2[0:5])\n",
    "print(message2[:5])\n",
    "print(message2[6:])"
   ]
  },
  {
   "cell_type": "markdown",
   "id": "060d1552",
   "metadata": {},
   "source": [
    "# Strings Methods"
   ]
  },
  {
   "cell_type": "code",
   "execution_count": 6,
   "id": "1948a481",
   "metadata": {},
   "outputs": [
    {
     "name": "stdout",
     "output_type": "stream",
     "text": [
      "HELLO NAJAF\n",
      "hello najaf\n",
      "2\n",
      "Hello najaf\n",
      "Hello Ali\n",
      "6\n",
      "-1\n"
     ]
    }
   ],
   "source": [
    "print(message2.upper())\n",
    "print(message2.lower())\n",
    "print(message2.count('a'))\n",
    "print(message2.capitalize())\n",
    "print(message2.replace('Najaf','Ali')) # We have to save it in another variable it doesnot effect origional\n",
    "print(message2.find('Najaf'))\n",
    "print(message2.find('Ali')) # Replaces but it doesnot effect origional So -1"
   ]
  },
  {
   "cell_type": "markdown",
   "id": "139d2884",
   "metadata": {},
   "source": [
    "# F String"
   ]
  },
  {
   "cell_type": "code",
   "execution_count": 7,
   "id": "2ecdba96",
   "metadata": {},
   "outputs": [
    {
     "name": "stdout",
     "output_type": "stream",
     "text": [
      "Hello Najaf Zawar, Welcome!\n",
      "Hello Najaf Zawar, Welcome!\n",
      "HELLO NAJAF Zawar, Welcome!\n"
     ]
    }
   ],
   "source": [
    "message3 = 'Zawar'\n",
    "print(message2 + ' ' + message3 + ', '+ 'Welcome!') # OLD Method\n",
    "print('{} {}, Welcome!'.format(message2, message3)) # New Method\n",
    "print(f'{message2.upper()} {message3}, Welcome!') # Now We used this Method"
   ]
  },
  {
   "cell_type": "code",
   "execution_count": 8,
   "id": "ccda6774",
   "metadata": {},
   "outputs": [],
   "source": [
    "#print(dir(message)) # Gives us all functions name"
   ]
  },
  {
   "cell_type": "code",
   "execution_count": 9,
   "id": "c796ffed",
   "metadata": {},
   "outputs": [],
   "source": [
    "#print(help(str)) # Gives us all functions name with Information"
   ]
  },
  {
   "cell_type": "markdown",
   "id": "f309ca4a",
   "metadata": {},
   "source": [
    "# Integeres & Floats "
   ]
  },
  {
   "cell_type": "code",
   "execution_count": 10,
   "id": "05fc4c42",
   "metadata": {},
   "outputs": [
    {
     "name": "stdout",
     "output_type": "stream",
     "text": [
      "<class 'int'>\n",
      "<class 'float'>\n"
     ]
    }
   ],
   "source": [
    "num1 = 5\n",
    "num2 = 5.5\n",
    "print(type(num1)) # Tell us type of variable\n",
    "print(type(num2))"
   ]
  },
  {
   "cell_type": "markdown",
   "id": "c1526e71",
   "metadata": {},
   "source": [
    "# Arthematic Operation"
   ]
  },
  {
   "cell_type": "code",
   "execution_count": 11,
   "id": "60a6c073",
   "metadata": {},
   "outputs": [
    {
     "name": "stdout",
     "output_type": "stream",
     "text": [
      "11\n",
      "5\n",
      "24\n",
      "512\n",
      "2.6666666666666665\n",
      "2\n"
     ]
    }
   ],
   "source": [
    "print(8 + 3) # Addition\n",
    "print(8 - 3) # Subtraction\n",
    "print(8 * 3) # Multiplication\n",
    "print(8 ** 3) # Square\n",
    "print(8 / 3) # Division\n",
    "print(8 // 3) #Floor Division"
   ]
  },
  {
   "cell_type": "markdown",
   "id": "540d36c5",
   "metadata": {},
   "source": [
    "# More with Int & Floats"
   ]
  },
  {
   "cell_type": "code",
   "execution_count": 12,
   "id": "08a95f0c",
   "metadata": {},
   "outputs": [
    {
     "name": "stdout",
     "output_type": "stream",
     "text": [
      "3\n",
      "4\n",
      "40\n"
     ]
    }
   ],
   "source": [
    "num3 = 2\n",
    "num3 = num3 +1  # 1 Increment method\n",
    "print(num3)\n",
    "num3 += 1      # 2 Increment method (Mostly used)\n",
    "print(num3)\n",
    "num3 *= 10\n",
    "print(num3)"
   ]
  },
  {
   "cell_type": "code",
   "execution_count": 13,
   "id": "aef84c88",
   "metadata": {},
   "outputs": [
    {
     "name": "stdout",
     "output_type": "stream",
     "text": [
      "5\n"
     ]
    }
   ],
   "source": [
    "print(abs(-5)) # Convert Negative to Positive"
   ]
  },
  {
   "cell_type": "code",
   "execution_count": 14,
   "id": "962a8dab",
   "metadata": {},
   "outputs": [
    {
     "name": "stdout",
     "output_type": "stream",
     "text": [
      "4\n",
      "3.8\n",
      "3.75\n"
     ]
    }
   ],
   "source": [
    "print(round(3.75))\n",
    "print(round(3.75, 1))  # Round of the number at first decimal place\n",
    "print(round(3.75265, 2))  # Round of the number at second decimal place"
   ]
  },
  {
   "cell_type": "markdown",
   "id": "afe87ed2",
   "metadata": {},
   "source": [
    "# Lists"
   ]
  },
  {
   "cell_type": "code",
   "execution_count": 15,
   "id": "65e96ade",
   "metadata": {},
   "outputs": [
    {
     "name": "stdout",
     "output_type": "stream",
     "text": [
      "4\n"
     ]
    }
   ],
   "source": [
    "my_list = ['History','Math','Physics','CompScience']\n",
    "print(len(my_list)) # Length of list"
   ]
  },
  {
   "cell_type": "markdown",
   "id": "d9674c89",
   "metadata": {},
   "source": [
    "# List Slicing"
   ]
  },
  {
   "cell_type": "code",
   "execution_count": 16,
   "id": "8ffef865",
   "metadata": {},
   "outputs": [
    {
     "name": "stdout",
     "output_type": "stream",
     "text": [
      "History\n"
     ]
    }
   ],
   "source": [
    "print(my_list[0]) # Print 1st item of list"
   ]
  },
  {
   "cell_type": "code",
   "execution_count": 17,
   "id": "69d21848",
   "metadata": {},
   "outputs": [
    {
     "name": "stdout",
     "output_type": "stream",
     "text": [
      "CompScience\n"
     ]
    }
   ],
   "source": [
    "print(my_list[-1]) # Print last item of list"
   ]
  },
  {
   "cell_type": "code",
   "execution_count": 18,
   "id": "ccbc0e76",
   "metadata": {},
   "outputs": [
    {
     "name": "stdout",
     "output_type": "stream",
     "text": [
      "['History', 'Math']\n",
      "['History', 'Math']\n"
     ]
    }
   ],
   "source": [
    "print(my_list[0:2])\n",
    "print(my_list[:2])"
   ]
  },
  {
   "cell_type": "code",
   "execution_count": 19,
   "id": "d54af531",
   "metadata": {},
   "outputs": [
    {
     "name": "stdout",
     "output_type": "stream",
     "text": [
      "['Physics', 'CompScience']\n"
     ]
    }
   ],
   "source": [
    "print(my_list[2:])"
   ]
  },
  {
   "cell_type": "markdown",
   "id": "77f6d723",
   "metadata": {},
   "source": [
    "# List Methods"
   ]
  },
  {
   "cell_type": "code",
   "execution_count": 20,
   "id": "fd80b6f6",
   "metadata": {},
   "outputs": [
    {
     "name": "stdout",
     "output_type": "stream",
     "text": [
      "['History', 'Math', 'Physics', 'CompScience', 'Art']\n"
     ]
    }
   ],
   "source": [
    "my_list.append('Art') # Art can be added in the end of list\n",
    "print(my_list)"
   ]
  },
  {
   "cell_type": "code",
   "execution_count": 21,
   "id": "42165e94",
   "metadata": {},
   "outputs": [
    {
     "name": "stdout",
     "output_type": "stream",
     "text": [
      "['AI', 'History', 'Math', 'Physics', 'CompScience', 'Art']\n"
     ]
    }
   ],
   "source": [
    "my_list.insert(0, 'AI') # Insert at given index\n",
    "print(my_list)"
   ]
  },
  {
   "cell_type": "code",
   "execution_count": 22,
   "id": "43419236",
   "metadata": {},
   "outputs": [
    {
     "name": "stdout",
     "output_type": "stream",
     "text": [
      "['AI', 'History', 'Math', 'Physics', 'CompScience', 'Art', 'ITC', 'Web']\n"
     ]
    }
   ],
   "source": [
    "courses = ['ITC', 'Web']\n",
    "my_list.extend(courses) # We use extend when we have multiple values & add values properly\n",
    "print(my_list)"
   ]
  },
  {
   "cell_type": "code",
   "execution_count": 23,
   "id": "d283beb9",
   "metadata": {},
   "outputs": [
    {
     "name": "stdout",
     "output_type": "stream",
     "text": [
      "[['OOP', 'DSA'], 'ITC', 'Web']\n"
     ]
    }
   ],
   "source": [
    "core_courses = ['OOP', 'DSA']\n",
    "courses.insert(0,core_courses)\n",
    "print(courses)"
   ]
  },
  {
   "cell_type": "code",
   "execution_count": 24,
   "id": "fddbff18",
   "metadata": {},
   "outputs": [
    {
     "name": "stdout",
     "output_type": "stream",
     "text": [
      "[['OOP', 'DSA'], 'ITC', 'Web', ['PakStudy', 'ISL']]\n"
     ]
    }
   ],
   "source": [
    "extra_courses = ['PakStudy', 'ISL']\n",
    "courses.append(extra_courses)\n",
    "print(courses)"
   ]
  },
  {
   "cell_type": "code",
   "execution_count": 25,
   "id": "868dd549",
   "metadata": {},
   "outputs": [
    {
     "name": "stdout",
     "output_type": "stream",
     "text": [
      "['AI', 'History', 'Math', 'Physics', 'CompScience', 'Art', 'ITC', 'Web']\n",
      "['AI', 'History', 'Physics', 'CompScience', 'Art', 'ITC', 'Web']\n",
      "['AI', 'History', 'Physics', 'CompScience', 'Art', 'ITC']\n"
     ]
    }
   ],
   "source": [
    "print(my_list)\n",
    "my_list.remove('Math') # Remove given item form list\n",
    "print(my_list)\n",
    "my_list.pop() # Remove item from last & we can grab the item using another variable for use\n",
    "print(my_list)"
   ]
  },
  {
   "cell_type": "code",
   "execution_count": 26,
   "id": "3f5af510",
   "metadata": {},
   "outputs": [
    {
     "name": "stdout",
     "output_type": "stream",
     "text": [
      "['ITC', 'Art', 'CompScience', 'Physics', 'History', 'AI']\n"
     ]
    }
   ],
   "source": [
    "my_list.reverse() # Reverse the List\n",
    "print(my_list)"
   ]
  },
  {
   "cell_type": "code",
   "execution_count": 27,
   "id": "08d0d19c",
   "metadata": {},
   "outputs": [
    {
     "name": "stdout",
     "output_type": "stream",
     "text": [
      "['AI', 'Art', 'CompScience', 'History', 'ITC', 'Physics']\n",
      "['ITC', 'Art', 'CompScience', 'Physics', 'History', 'AI']\n",
      "['AI', 'Art', 'CompScience', 'History', 'ITC', 'Physics']\n"
     ]
    }
   ],
   "source": [
    "sorted_list = sorted (my_list) # if we donot want to change the origional array\n",
    "print(sorted_list)\n",
    "print(my_list) # After Sorting our origional list is not changed\n",
    "my_list.sort() # Sort origional list Alphabetically or ascending\n",
    "print(my_list)"
   ]
  },
  {
   "cell_type": "code",
   "execution_count": 28,
   "id": "7a645501",
   "metadata": {},
   "outputs": [
    {
     "name": "stdout",
     "output_type": "stream",
     "text": [
      "3\n",
      "43\n",
      "78\n"
     ]
    }
   ],
   "source": [
    "nums = [3,5,12,43,7,8]\n",
    "print(min(nums))  # Display Minimum number in list\n",
    "print(max(nums))  # Display Maximium number in list\n",
    "print(sum(nums))  # Display Sum of list"
   ]
  },
  {
   "cell_type": "markdown",
   "id": "1aa461e1",
   "metadata": {},
   "source": [
    "# Finding item from list"
   ]
  },
  {
   "cell_type": "code",
   "execution_count": 29,
   "id": "6f60eec7",
   "metadata": {},
   "outputs": [
    {
     "name": "stdout",
     "output_type": "stream",
     "text": [
      "['AI', 'Art', 'CompScience', 'History', 'ITC', 'Physics']\n",
      "5\n",
      "True\n",
      "False\n"
     ]
    }
   ],
   "source": [
    "print(my_list)\n",
    "print(my_list.index('Physics'))\n",
    "print('Art' in my_list)\n",
    "print('Math' in my_list)"
   ]
  },
  {
   "cell_type": "code",
   "execution_count": 30,
   "id": "3ca6dcff",
   "metadata": {},
   "outputs": [
    {
     "name": "stdout",
     "output_type": "stream",
     "text": [
      "0 AI\n",
      "1 Art\n",
      "2 CompScience\n",
      "3 History\n",
      "4 ITC\n",
      "5 Physics\n"
     ]
    }
   ],
   "source": [
    "for index,course in enumerate(my_list):\n",
    "    print(index, course)"
   ]
  },
  {
   "cell_type": "code",
   "execution_count": 31,
   "id": "498ea215",
   "metadata": {},
   "outputs": [
    {
     "name": "stdout",
     "output_type": "stream",
     "text": [
      "1 AI\n",
      "2 Art\n",
      "3 CompScience\n",
      "4 History\n",
      "5 ITC\n",
      "6 Physics\n"
     ]
    }
   ],
   "source": [
    "for index,course in enumerate(my_list,1):  # Display all subjects but index them from 1 to so on\n",
    "    print(index, course)"
   ]
  },
  {
   "cell_type": "markdown",
   "id": "61328b3b",
   "metadata": {},
   "source": [
    "# Convert List to String"
   ]
  },
  {
   "cell_type": "code",
   "execution_count": 32,
   "id": "9bd19f94",
   "metadata": {},
   "outputs": [
    {
     "name": "stdout",
     "output_type": "stream",
     "text": [
      "['AI', 'Art', 'CompScience', 'History', 'ITC', 'Physics']\n",
      "AI,Art,CompScience,History,ITC,Physics\n",
      "AI-Art-CompScience-History-ITC-Physics\n",
      "['AI', 'Art', 'CompScience', 'History', 'ITC', 'Physics']\n"
     ]
    }
   ],
   "source": [
    "print(my_list)\n",
    "course_str = ','.join(my_list)\n",
    "print(course_str)\n",
    "course_str_2 = '-'.join(my_list)\n",
    "print(course_str_2)\n",
    "print(my_list)"
   ]
  },
  {
   "cell_type": "code",
   "execution_count": 33,
   "id": "8decd155",
   "metadata": {},
   "outputs": [
    {
     "name": "stdout",
     "output_type": "stream",
     "text": [
      "['AI', 'Art', 'CompScience', 'History', 'ITC', 'Physics']\n",
      "['AI', 'Art', 'CompScience', 'History', 'ITC', 'Physics']\n"
     ]
    }
   ],
   "source": [
    "new_list = course_str.split(',')  # we use here \",\" or \"-\" which we used while converting from list to string Compulsary\n",
    "new_list_2= course_str_2.split('-')\n",
    "print(new_list)\n",
    "print(new_list_2)"
   ]
  },
  {
   "cell_type": "markdown",
   "id": "d99f7255",
   "metadata": {},
   "source": [
    "# Tuple"
   ]
  },
  {
   "cell_type": "code",
   "execution_count": 34,
   "id": "68e9327f",
   "metadata": {},
   "outputs": [
    {
     "name": "stdout",
     "output_type": "stream",
     "text": [
      "('History', 'Math', 'Physics', 'CompScience')\n"
     ]
    }
   ],
   "source": [
    "my_tuple =  ('History','Math','Physics','CompScience') # Tuples are Immutable(Can't Modify)\n",
    "print(my_tuple)"
   ]
  },
  {
   "cell_type": "code",
   "execution_count": 35,
   "id": "91686118",
   "metadata": {},
   "outputs": [
    {
     "data": {
      "text/plain": [
       "'Math'"
      ]
     },
     "execution_count": 35,
     "metadata": {},
     "output_type": "execute_result"
    }
   ],
   "source": [
    "my_tuple[1] # To find the value we use square bracket"
   ]
  },
  {
   "cell_type": "markdown",
   "id": "a3627aba",
   "metadata": {},
   "source": [
    "# Tuple Method"
   ]
  },
  {
   "cell_type": "code",
   "execution_count": 36,
   "id": "611f3dd8",
   "metadata": {},
   "outputs": [
    {
     "data": {
      "text/plain": [
       "1"
      ]
     },
     "execution_count": 36,
     "metadata": {},
     "output_type": "execute_result"
    }
   ],
   "source": [
    "my_tuple.count('Math')"
   ]
  },
  {
   "cell_type": "code",
   "execution_count": 37,
   "id": "779ef0c7",
   "metadata": {},
   "outputs": [
    {
     "data": {
      "text/plain": [
       "0"
      ]
     },
     "execution_count": 37,
     "metadata": {},
     "output_type": "execute_result"
    }
   ],
   "source": [
    "my_tuple.index('History')"
   ]
  },
  {
   "cell_type": "markdown",
   "id": "58e8ca4a",
   "metadata": {},
   "source": [
    "# Sets"
   ]
  },
  {
   "cell_type": "code",
   "execution_count": 38,
   "id": "741ca9e3",
   "metadata": {},
   "outputs": [],
   "source": [
    "#Sets only contain unique value and & donot care about order of items\n",
    "cs_courses = {'History','Math','Physics','CompScience','Math'}\n",
    "art_courses = {'History','Math','Physics','Art','Design'}"
   ]
  },
  {
   "cell_type": "code",
   "execution_count": 39,
   "id": "03bd6a2e",
   "metadata": {},
   "outputs": [
    {
     "name": "stdout",
     "output_type": "stream",
     "text": [
      "{'History', 'CompScience', 'Math', 'Physics'}\n",
      "{'Design', 'History', 'Art', 'Math', 'Physics'}\n"
     ]
    }
   ],
   "source": [
    "print(cs_courses)\n",
    "print(art_courses)"
   ]
  },
  {
   "cell_type": "code",
   "execution_count": 40,
   "id": "c7e867fe",
   "metadata": {},
   "outputs": [
    {
     "name": "stdout",
     "output_type": "stream",
     "text": [
      "True\n",
      "False\n"
     ]
    }
   ],
   "source": [
    "print('Math' in cs_courses)\n",
    "print('Design' in cs_courses)"
   ]
  },
  {
   "cell_type": "markdown",
   "id": "7fe57423",
   "metadata": {},
   "source": [
    "# Sets Methods"
   ]
  },
  {
   "cell_type": "code",
   "execution_count": 41,
   "id": "25f8bdd5",
   "metadata": {},
   "outputs": [
    {
     "name": "stdout",
     "output_type": "stream",
     "text": [
      "{'History', 'Math', 'Physics'}\n"
     ]
    }
   ],
   "source": [
    "print(cs_courses.intersection(art_courses))"
   ]
  },
  {
   "cell_type": "code",
   "execution_count": 42,
   "id": "81de479e",
   "metadata": {},
   "outputs": [
    {
     "name": "stdout",
     "output_type": "stream",
     "text": [
      "{'CompScience'}\n"
     ]
    }
   ],
   "source": [
    "print(cs_courses.difference(art_courses))"
   ]
  },
  {
   "cell_type": "code",
   "execution_count": 43,
   "id": "13a0ddd0",
   "metadata": {},
   "outputs": [
    {
     "name": "stdout",
     "output_type": "stream",
     "text": [
      "{'Art', 'Design'}\n"
     ]
    }
   ],
   "source": [
    "print(art_courses.difference(cs_courses))"
   ]
  },
  {
   "cell_type": "code",
   "execution_count": 44,
   "id": "ca043742",
   "metadata": {},
   "outputs": [
    {
     "name": "stdout",
     "output_type": "stream",
     "text": [
      "{'Design', 'Art', 'CompScience', 'Math', 'History', 'Physics'}\n"
     ]
    }
   ],
   "source": [
    "print(cs_courses.union(art_courses))"
   ]
  },
  {
   "cell_type": "markdown",
   "id": "92840d99",
   "metadata": {},
   "source": [
    "# How to Create Empty List , Tuple , Set"
   ]
  },
  {
   "cell_type": "markdown",
   "id": "2cea650c",
   "metadata": {},
   "source": [
    "# List"
   ]
  },
  {
   "cell_type": "code",
   "execution_count": 45,
   "id": "ddb548b3",
   "metadata": {},
   "outputs": [],
   "source": [
    "empty_lst =[]\n",
    "# OR\n",
    "empty_list = list()"
   ]
  },
  {
   "cell_type": "markdown",
   "id": "bfa7ccc9",
   "metadata": {},
   "source": [
    "# Tuple "
   ]
  },
  {
   "cell_type": "code",
   "execution_count": 46,
   "id": "733badc0",
   "metadata": {},
   "outputs": [],
   "source": [
    "empty_tup = ()\n",
    "# OR\n",
    "empty_tuple = tuple()"
   ]
  },
  {
   "cell_type": "markdown",
   "id": "4fb49357",
   "metadata": {},
   "source": [
    "# Sets"
   ]
  },
  {
   "cell_type": "code",
   "execution_count": 47,
   "id": "b90179c7",
   "metadata": {},
   "outputs": [],
   "source": [
    "# empty_set = {}   We cannot create empty set like this\n",
    "empty_set = set()  # Correct Way"
   ]
  },
  {
   "cell_type": "markdown",
   "id": "6e399449",
   "metadata": {},
   "source": [
    "# Dictonaries"
   ]
  },
  {
   "cell_type": "code",
   "execution_count": 48,
   "id": "6531f332",
   "metadata": {},
   "outputs": [],
   "source": [
    "my_dict = {'name':'Ali', 'age': 25, 'courses':['Math','PakStudy']} # keys & values could be of any type"
   ]
  },
  {
   "cell_type": "code",
   "execution_count": 49,
   "id": "0e14b78b",
   "metadata": {},
   "outputs": [
    {
     "name": "stdout",
     "output_type": "stream",
     "text": [
      "{'name': 'Ali', 'age': 25, 'courses': ['Math', 'PakStudy']}\n"
     ]
    }
   ],
   "source": [
    "print(my_dict)"
   ]
  },
  {
   "cell_type": "markdown",
   "id": "dfcbb155",
   "metadata": {},
   "source": [
    "# Dictionary Method"
   ]
  },
  {
   "cell_type": "code",
   "execution_count": 50,
   "id": "8d4ac423",
   "metadata": {},
   "outputs": [
    {
     "name": "stdout",
     "output_type": "stream",
     "text": [
      "Ali\n"
     ]
    }
   ],
   "source": [
    "print(my_dict['name']) # In dictionary we can access values through keys its not a good method"
   ]
  },
  {
   "cell_type": "code",
   "execution_count": 51,
   "id": "00a9e846",
   "metadata": {},
   "outputs": [
    {
     "data": {
      "text/plain": [
       "'Ali'"
      ]
     },
     "execution_count": 51,
     "metadata": {},
     "output_type": "execute_result"
    }
   ],
   "source": [
    "my_dict.get('name')"
   ]
  },
  {
   "cell_type": "code",
   "execution_count": 52,
   "id": "37340366",
   "metadata": {},
   "outputs": [],
   "source": [
    "my_dict.get('id') # I gives us none but here not displayed"
   ]
  },
  {
   "cell_type": "code",
   "execution_count": 53,
   "id": "3cfbe02d",
   "metadata": {},
   "outputs": [
    {
     "data": {
      "text/plain": [
       "'Not Found'"
      ]
     },
     "execution_count": 53,
     "metadata": {},
     "output_type": "execute_result"
    }
   ],
   "source": [
    "my_dict.get('id','Not Found')"
   ]
  },
  {
   "cell_type": "code",
   "execution_count": 54,
   "id": "3e3b6b23",
   "metadata": {},
   "outputs": [
    {
     "name": "stdout",
     "output_type": "stream",
     "text": [
      "{'name': 'Mahdi', 'age': 25, 'courses': ['Math', 'PakStudy']}\n"
     ]
    }
   ],
   "source": [
    "my_dict['name'] = 'Mahdi' # We can do this but not good method\n",
    "print(my_dict)"
   ]
  },
  {
   "cell_type": "code",
   "execution_count": 55,
   "id": "4c13b57a",
   "metadata": {},
   "outputs": [
    {
     "name": "stdout",
     "output_type": "stream",
     "text": [
      "{'name': 'Hussain', 'age': '25', 'courses': ['Math', 'PakStudy'], 'phone': 555}\n"
     ]
    }
   ],
   "source": [
    "my_dict.update({'name':'Hussain', 'age':'25', 'phone':555})\n",
    "print(my_dict)"
   ]
  },
  {
   "cell_type": "code",
   "execution_count": 56,
   "id": "a3a8191a",
   "metadata": {},
   "outputs": [
    {
     "name": "stdout",
     "output_type": "stream",
     "text": [
      "{'name': 'Hussain', 'courses': ['Math', 'PakStudy'], 'phone': 555}\n"
     ]
    }
   ],
   "source": [
    "del my_dict['age'] # we cannot save value when using this deleted function\n",
    "print(my_dict)"
   ]
  },
  {
   "cell_type": "code",
   "execution_count": 57,
   "id": "eef108d3",
   "metadata": {},
   "outputs": [
    {
     "name": "stdout",
     "output_type": "stream",
     "text": [
      "555\n"
     ]
    }
   ],
   "source": [
    "phone_no = my_dict.pop('phone')  # using pop we can save our value\n",
    "print(phone_no)"
   ]
  },
  {
   "cell_type": "code",
   "execution_count": 58,
   "id": "1111a91d",
   "metadata": {},
   "outputs": [
    {
     "name": "stdout",
     "output_type": "stream",
     "text": [
      "{'name': 'Hussain', 'courses': ['Math', 'PakStudy']}\n",
      "2\n"
     ]
    }
   ],
   "source": [
    "print(my_dict)\n",
    "print(len(my_dict))"
   ]
  },
  {
   "cell_type": "code",
   "execution_count": 59,
   "id": "9c010685",
   "metadata": {},
   "outputs": [
    {
     "name": "stdout",
     "output_type": "stream",
     "text": [
      "dict_keys(['name', 'courses'])\n"
     ]
    }
   ],
   "source": [
    "print(my_dict.keys())"
   ]
  },
  {
   "cell_type": "code",
   "execution_count": 60,
   "id": "977534c9",
   "metadata": {},
   "outputs": [
    {
     "name": "stdout",
     "output_type": "stream",
     "text": [
      "dict_values(['Hussain', ['Math', 'PakStudy']])\n"
     ]
    }
   ],
   "source": [
    "print(my_dict.values())"
   ]
  },
  {
   "cell_type": "code",
   "execution_count": 61,
   "id": "e43d0df0",
   "metadata": {},
   "outputs": [
    {
     "name": "stdout",
     "output_type": "stream",
     "text": [
      "dict_items([('name', 'Hussain'), ('courses', ['Math', 'PakStudy'])])\n"
     ]
    }
   ],
   "source": [
    "print(my_dict.items())"
   ]
  },
  {
   "cell_type": "markdown",
   "id": "6801ca1e",
   "metadata": {},
   "source": [
    "# we also use for loop to display our dictionary"
   ]
  },
  {
   "cell_type": "code",
   "execution_count": 62,
   "id": "a2c834e5",
   "metadata": {},
   "outputs": [
    {
     "name": "stdout",
     "output_type": "stream",
     "text": [
      "name\n",
      "courses\n"
     ]
    }
   ],
   "source": [
    "for key in my_dict:\n",
    "    print(key)"
   ]
  },
  {
   "cell_type": "code",
   "execution_count": 63,
   "id": "9d1401d2",
   "metadata": {},
   "outputs": [
    {
     "name": "stdout",
     "output_type": "stream",
     "text": [
      "name Hussain\n",
      "courses ['Math', 'PakStudy']\n"
     ]
    }
   ],
   "source": [
    "for key,value in my_dict.items():\n",
    "    print(key,value)"
   ]
  },
  {
   "cell_type": "markdown",
   "id": "0bf7e1e7",
   "metadata": {},
   "source": [
    "# IF ELSE"
   ]
  },
  {
   "cell_type": "code",
   "execution_count": 64,
   "id": "9575300e",
   "metadata": {},
   "outputs": [
    {
     "name": "stdout",
     "output_type": "stream",
     "text": [
      "Good\n"
     ]
    }
   ],
   "source": [
    "if True:             # If only runs when our condition satifies / True\n",
    "    print('Good')"
   ]
  },
  {
   "cell_type": "code",
   "execution_count": 65,
   "id": "173343a6",
   "metadata": {},
   "outputs": [],
   "source": [
    "if False:\n",
    "    print('Not Good')"
   ]
  },
  {
   "cell_type": "markdown",
   "id": "6075a9c9",
   "metadata": {},
   "source": [
    "# Use of NOT"
   ]
  },
  {
   "cell_type": "code",
   "execution_count": 66,
   "id": "57678c51",
   "metadata": {},
   "outputs": [
    {
     "name": "stdout",
     "output_type": "stream",
     "text": [
      "Please Login\n"
     ]
    }
   ],
   "source": [
    "# Not is used to switch boolean variable to true to false / false to true\n",
    "login = False\n",
    "if not login:\n",
    "    print('Please Login')\n",
    "else:\n",
    "    print('Welcome')"
   ]
  },
  {
   "cell_type": "code",
   "execution_count": 67,
   "id": "70ed407a",
   "metadata": {},
   "outputs": [
    {
     "name": "stdout",
     "output_type": "stream",
     "text": [
      "Welcome\n"
     ]
    }
   ],
   "source": [
    "login = True\n",
    "if not login:\n",
    "    print('Please Login')\n",
    "else:\n",
    "    print('Welcome')"
   ]
  },
  {
   "cell_type": "markdown",
   "id": "91880839",
   "metadata": {},
   "source": [
    "# Object Identity == OR Is"
   ]
  },
  {
   "cell_type": "code",
   "execution_count": 68,
   "id": "eb9d7e0b",
   "metadata": {},
   "outputs": [
    {
     "name": "stdout",
     "output_type": "stream",
     "text": [
      "True\n",
      "False\n",
      "2830166262080\n",
      "2830166261888\n"
     ]
    }
   ],
   "source": [
    "a = [1,2,3]\n",
    "b = [1,2,3]\n",
    "print(a==b)\n",
    "print(a is b) # False because they are two different object in memory as ids are shown belown\n",
    "print(id(a))\n",
    "print(id(b))"
   ]
  },
  {
   "cell_type": "code",
   "execution_count": 69,
   "id": "072a5f58",
   "metadata": {},
   "outputs": [
    {
     "name": "stdout",
     "output_type": "stream",
     "text": [
      "True\n",
      "True\n",
      "2830166262080\n",
      "2830166262080\n"
     ]
    }
   ],
   "source": [
    "# If instead of this we write\n",
    "b = a\n",
    "# Now its shows true for both because ids for both are same\n",
    "print(a == b)\n",
    "print(a is b)\n",
    "print(id(a))\n",
    "print(id(b))"
   ]
  },
  {
   "cell_type": "code",
   "execution_count": 70,
   "id": "79d0b508",
   "metadata": {},
   "outputs": [
    {
     "name": "stdout",
     "output_type": "stream",
     "text": [
      "True\n"
     ]
    }
   ],
   "source": [
    "print(id(a) == id(b)) # We also write like this"
   ]
  },
  {
   "cell_type": "markdown",
   "id": "2851137a",
   "metadata": {},
   "source": [
    "# False Values"
   ]
  },
  {
   "cell_type": "code",
   "execution_count": 71,
   "id": "0546dc35",
   "metadata": {},
   "outputs": [],
   "source": [
    "# False\n",
    "# None\n",
    "# Zero of any Numeric Type\n",
    "# Empty Sequence i.e,().[]\n",
    "# Empty Mapping {}"
   ]
  },
  {
   "cell_type": "code",
   "execution_count": 72,
   "id": "f343b62a",
   "metadata": {},
   "outputs": [
    {
     "name": "stdout",
     "output_type": "stream",
     "text": [
      "Evaluated to False\n"
     ]
    }
   ],
   "source": [
    "condition = False\n",
    "if condition:\n",
    "    print('Evaluated to True')\n",
    "else:\n",
    "    print('Evaluated to False')"
   ]
  },
  {
   "cell_type": "code",
   "execution_count": 73,
   "id": "1ae100f3",
   "metadata": {},
   "outputs": [
    {
     "name": "stdout",
     "output_type": "stream",
     "text": [
      "Evaluated to False\n"
     ]
    }
   ],
   "source": [
    "condition = None\n",
    "if condition:\n",
    "    print('Evaluated to True')\n",
    "else:\n",
    "    print('Evaluated to False')"
   ]
  },
  {
   "cell_type": "code",
   "execution_count": 74,
   "id": "59f2a3c8",
   "metadata": {},
   "outputs": [
    {
     "name": "stdout",
     "output_type": "stream",
     "text": [
      "Evaluated to False\n"
     ]
    }
   ],
   "source": [
    "condition = 0\n",
    "if condition:\n",
    "    print('Evaluated to True')\n",
    "else:\n",
    "    print('Evaluated to False')"
   ]
  },
  {
   "cell_type": "code",
   "execution_count": 75,
   "id": "fcc481d3",
   "metadata": {},
   "outputs": [
    {
     "name": "stdout",
     "output_type": "stream",
     "text": [
      "Evaluated to False\n"
     ]
    }
   ],
   "source": [
    "condition = ()\n",
    "if condition:\n",
    "    print('Evaluated to True')\n",
    "else:\n",
    "    print('Evaluated to False')"
   ]
  },
  {
   "cell_type": "code",
   "execution_count": 76,
   "id": "34ba4836",
   "metadata": {},
   "outputs": [
    {
     "name": "stdout",
     "output_type": "stream",
     "text": [
      "Evaluated to False\n"
     ]
    }
   ],
   "source": [
    "condition = []\n",
    "if condition:\n",
    "    print('Evaluated to True')\n",
    "else:\n",
    "    print('Evaluated to False')"
   ]
  },
  {
   "cell_type": "code",
   "execution_count": 77,
   "id": "00dff9b7",
   "metadata": {},
   "outputs": [
    {
     "name": "stdout",
     "output_type": "stream",
     "text": [
      "Evaluated to False\n"
     ]
    }
   ],
   "source": [
    "condition = {}\n",
    "if condition:\n",
    "    print('Evaluated to True')\n",
    "else:\n",
    "    print('Evaluated to False')"
   ]
  },
  {
   "cell_type": "markdown",
   "id": "74f043a2",
   "metadata": {},
   "source": [
    "# Loops & Iterations"
   ]
  },
  {
   "cell_type": "code",
   "execution_count": 78,
   "id": "87d33a5f",
   "metadata": {},
   "outputs": [],
   "source": [
    "nums = [1, 2, 3, 4, 5]"
   ]
  },
  {
   "cell_type": "markdown",
   "id": "a35f8ecf",
   "metadata": {},
   "source": [
    "# For Loop"
   ]
  },
  {
   "cell_type": "code",
   "execution_count": 79,
   "id": "ddc2f379",
   "metadata": {},
   "outputs": [
    {
     "name": "stdout",
     "output_type": "stream",
     "text": [
      "1\n",
      "2\n",
      "3\n",
      "4\n",
      "5\n"
     ]
    }
   ],
   "source": [
    "for num in nums:\n",
    "    print(num)"
   ]
  },
  {
   "cell_type": "code",
   "execution_count": 80,
   "id": "e20046fd",
   "metadata": {},
   "outputs": [
    {
     "name": "stdout",
     "output_type": "stream",
     "text": [
      "1\n",
      "2\n"
     ]
    }
   ],
   "source": [
    "for num in nums:\n",
    "    if num == 3:\n",
    "        break\n",
    "    else:\n",
    "        print(num)"
   ]
  },
  {
   "cell_type": "code",
   "execution_count": 81,
   "id": "68afe23f",
   "metadata": {},
   "outputs": [
    {
     "name": "stdout",
     "output_type": "stream",
     "text": [
      "1\n",
      "2\n",
      "4\n",
      "5\n"
     ]
    }
   ],
   "source": [
    "for num in nums:\n",
    "    if num == 3:\n",
    "        continue\n",
    "    else:\n",
    "        print(num)"
   ]
  },
  {
   "cell_type": "code",
   "execution_count": 82,
   "id": "e6df10b3",
   "metadata": {},
   "outputs": [
    {
     "name": "stdout",
     "output_type": "stream",
     "text": [
      "1 a\n",
      "1 b\n",
      "1 c\n",
      "2 a\n",
      "2 b\n",
      "2 c\n",
      "3 a\n",
      "3 b\n",
      "3 c\n",
      "4 a\n",
      "4 b\n",
      "4 c\n",
      "5 a\n",
      "5 b\n",
      "5 c\n"
     ]
    }
   ],
   "source": [
    "for num in nums:\n",
    "    for letter in 'abc':\n",
    "         print(num,letter)"
   ]
  },
  {
   "cell_type": "code",
   "execution_count": 83,
   "id": "e293f451",
   "metadata": {},
   "outputs": [
    {
     "name": "stdout",
     "output_type": "stream",
     "text": [
      "0\n",
      "1\n",
      "2\n",
      "3\n",
      "4\n",
      "5\n",
      "6\n",
      "7\n",
      "8\n",
      "9\n"
     ]
    }
   ],
   "source": [
    "for i in range(10):\n",
    "    print(i)"
   ]
  },
  {
   "cell_type": "code",
   "execution_count": 84,
   "id": "c7f79eef",
   "metadata": {},
   "outputs": [
    {
     "name": "stdout",
     "output_type": "stream",
     "text": [
      "1\n",
      "2\n",
      "3\n",
      "4\n",
      "5\n",
      "6\n",
      "7\n",
      "8\n",
      "9\n",
      "10\n"
     ]
    }
   ],
   "source": [
    "for i in range(1,11):\n",
    "    print(i)"
   ]
  },
  {
   "cell_type": "markdown",
   "id": "0420e7a2",
   "metadata": {},
   "source": [
    "# Functions"
   ]
  },
  {
   "cell_type": "code",
   "execution_count": 85,
   "id": "f65f7670",
   "metadata": {},
   "outputs": [],
   "source": [
    "# Simple defining the function we cannot leave function empty we just write pass without leaving empty\n",
    "def hello_func():\n",
    "    pass"
   ]
  },
  {
   "cell_type": "code",
   "execution_count": 86,
   "id": "b6b9ec7b",
   "metadata": {},
   "outputs": [
    {
     "name": "stdout",
     "output_type": "stream",
     "text": [
      "None\n"
     ]
    }
   ],
   "source": [
    "print(hello_func()) # Wriiten for function execution"
   ]
  },
  {
   "cell_type": "code",
   "execution_count": 87,
   "id": "d897a46b",
   "metadata": {},
   "outputs": [
    {
     "name": "stdout",
     "output_type": "stream",
     "text": [
      "<function hello_func at 0x00000292F30AAB80>\n"
     ]
    }
   ],
   "source": [
    "print(hello_func) # Gives us name of function with Address"
   ]
  },
  {
   "cell_type": "code",
   "execution_count": 88,
   "id": "b1312a97",
   "metadata": {},
   "outputs": [
    {
     "name": "stdout",
     "output_type": "stream",
     "text": [
      "Hello Function\n"
     ]
    }
   ],
   "source": [
    "def hello_func():\n",
    "    print('Hello Function')\n",
    "\n",
    "hello_func()"
   ]
  },
  {
   "cell_type": "code",
   "execution_count": 89,
   "id": "b74103da",
   "metadata": {},
   "outputs": [
    {
     "name": "stdout",
     "output_type": "stream",
     "text": [
      "Hello Function\n",
      "HELLO FUNCTION\n"
     ]
    }
   ],
   "source": [
    "def hello_func():            # if we are returning value we can call the function using print for displaying value\n",
    "    return'Hello Function'\n",
    "\n",
    "hello_func()                # Dispplay Nothing\n",
    "print(hello_func())\n",
    "        # We also use bulit ijn function while calling our function i.e\n",
    "print(hello_func().upper())"
   ]
  },
  {
   "cell_type": "code",
   "execution_count": 90,
   "id": "69da42bb",
   "metadata": {},
   "outputs": [
    {
     "name": "stdout",
     "output_type": "stream",
     "text": [
      "Hi! Function\n"
     ]
    }
   ],
   "source": [
    "def hello_func(greeting):\n",
    "    return'{} Function'.format(greeting)\n",
    "\n",
    "print(hello_func('Hi!')) "
   ]
  },
  {
   "cell_type": "code",
   "execution_count": 91,
   "id": "903efd12",
   "metadata": {},
   "outputs": [
    {
     "name": "stdout",
     "output_type": "stream",
     "text": [
      "Hi! you\n"
     ]
    }
   ],
   "source": [
    "def hello_func(greeting, name='you'):\n",
    "    return'{} {}'.format(greeting, name)\n",
    "\n",
    "print(hello_func('Hi!')) "
   ]
  },
  {
   "cell_type": "code",
   "execution_count": 92,
   "id": "fefdc8f4",
   "metadata": {},
   "outputs": [
    {
     "name": "stdout",
     "output_type": "stream",
     "text": [
      "Hi! Najaf\n"
     ]
    }
   ],
   "source": [
    "def hello_func(greeting, name='you'):\n",
    "    return'{} {}'.format(greeting, name)\n",
    "\n",
    "print(hello_func('Hi!','Najaf')) "
   ]
  },
  {
   "cell_type": "markdown",
   "id": "d955d570",
   "metadata": {},
   "source": [
    "# Important*"
   ]
  },
  {
   "cell_type": "code",
   "execution_count": 93,
   "id": "4dabe1b7",
   "metadata": {},
   "outputs": [
    {
     "name": "stdout",
     "output_type": "stream",
     "text": [
      "('Math', 'Science', 'English')\n",
      "{'name': 'Ali', 'age': 22}\n"
     ]
    }
   ],
   "source": [
    "def std_info(*args, **kwargs):\n",
    "    print(args)     # Student courses in this case\n",
    "    print(kwargs)   # Student Random Info in this case\n",
    "\n",
    "    \n",
    "std_info('Math', 'Science','English', name='Ali', age =22)"
   ]
  },
  {
   "cell_type": "code",
   "execution_count": 94,
   "id": "0cf87e77",
   "metadata": {},
   "outputs": [
    {
     "name": "stdout",
     "output_type": "stream",
     "text": [
      "(['Math', 'Science', 'English'], {'name': 'Ali', 'age': 22})\n",
      "{}\n"
     ]
    }
   ],
   "source": [
    "def std_info(*args, **kwargs):\n",
    "    print(args)     # Student courses in this case\n",
    "    print(kwargs)   # Student Random Info in this case\n",
    "\n",
    "courses = ['Math', 'Science','English']\n",
    "info = {'name': 'Ali', 'age': 22}\n",
    "std_info(courses, info)     # It gives us Wrong Result/Format"
   ]
  },
  {
   "cell_type": "code",
   "execution_count": 95,
   "id": "547f7101",
   "metadata": {},
   "outputs": [
    {
     "name": "stdout",
     "output_type": "stream",
     "text": [
      "('Math', 'Science', 'English')\n",
      "{'name': 'Ali', 'age': 22}\n"
     ]
    }
   ],
   "source": [
    "                          # So Correct Calling is\n",
    "std_info(*courses, **info)"
   ]
  },
  {
   "cell_type": "markdown",
   "id": "a9da70ce",
   "metadata": {},
   "source": [
    "# Lambda / Anonymous Function"
   ]
  },
  {
   "cell_type": "markdown",
   "id": "1a752110",
   "metadata": {},
   "source": [
    "# We use lambda function when we have one line function"
   ]
  },
  {
   "cell_type": "code",
   "execution_count": 96,
   "id": "054fb7a0",
   "metadata": {},
   "outputs": [
    {
     "data": {
      "text/plain": [
       "5"
      ]
     },
     "execution_count": 96,
     "metadata": {},
     "output_type": "execute_result"
    }
   ],
   "source": [
    "# simple function\n",
    "def add(a,b):\n",
    "    return a+b\n",
    "\n",
    "add(2,3)"
   ]
  },
  {
   "cell_type": "code",
   "execution_count": 97,
   "id": "8bfc10c7",
   "metadata": {},
   "outputs": [
    {
     "data": {
      "text/plain": [
       "5"
      ]
     },
     "execution_count": 97,
     "metadata": {},
     "output_type": "execute_result"
    }
   ],
   "source": [
    "# lambda Function\n",
    "\n",
    "add = lambda a,b: a+b\n",
    "\n",
    "add(2,3)"
   ]
  }
 ],
 "metadata": {
  "kernelspec": {
   "display_name": "Python 3 (ipykernel)",
   "language": "python",
   "name": "python3"
  },
  "language_info": {
   "codemirror_mode": {
    "name": "ipython",
    "version": 3
   },
   "file_extension": ".py",
   "mimetype": "text/x-python",
   "name": "python",
   "nbconvert_exporter": "python",
   "pygments_lexer": "ipython3",
   "version": "3.9.7"
  }
 },
 "nbformat": 4,
 "nbformat_minor": 5
}

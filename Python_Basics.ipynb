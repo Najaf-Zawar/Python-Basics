{
 "cells": [
  {
   "cell_type": "markdown",
   "id": "efefacb1",
   "metadata": {},
   "source": [
    "# Python course"
   ]
  },
  {
   "cell_type": "code",
   "execution_count": 1,
   "id": "8f43b45c",
   "metadata": {},
   "outputs": [
    {
     "name": "stdout",
     "output_type": "stream",
     "text": [
      "Welcome to python for Data Science\n"
     ]
    }
   ],
   "source": [
    "print('Welcome to python for Data Science')"
   ]
  },
  {
   "cell_type": "markdown",
   "id": "2b9b90f6",
   "metadata": {},
   "source": [
    "# Strings"
   ]
  },
  {
   "cell_type": "code",
   "execution_count": 2,
   "id": "3b8c523a",
   "metadata": {},
   "outputs": [
    {
     "name": "stdout",
     "output_type": "stream",
     "text": [
      "Men's World\n"
     ]
    }
   ],
   "source": [
    "message = 'Men\\'s World'\n",
    "print(message)"
   ]
  },
  {
   "cell_type": "code",
   "execution_count": 3,
   "id": "7d597ad4",
   "metadata": {},
   "outputs": [
    {
     "name": "stdout",
     "output_type": "stream",
     "text": [
      "Men's Universe\n"
     ]
    }
   ],
   "source": [
    "message1 = \"Men's Universe\"\n",
    "print(message1)"
   ]
  },
  {
   "cell_type": "code",
   "execution_count": 4,
   "id": "7a1ec0dc",
   "metadata": {},
   "outputs": [
    {
     "name": "stdout",
     "output_type": "stream",
     "text": [
      "11\n"
     ]
    }
   ],
   "source": [
    "message2 = 'Hello Najaf'\n",
    "print(len(message2)) # include Space"
   ]
  },
  {
   "cell_type": "markdown",
   "id": "0c88e55a",
   "metadata": {},
   "source": [
    "# String Slicing"
   ]
  },
  {
   "cell_type": "code",
   "execution_count": 5,
   "id": "77d83752",
   "metadata": {},
   "outputs": [
    {
     "name": "stdout",
     "output_type": "stream",
     "text": [
      "H\n",
      "f\n",
      "Hello\n",
      "Hello\n",
      "Najaf\n"
     ]
    }
   ],
   "source": [
    "print(message2[0])\n",
    "print(message2[-1])\n",
    "print(message2[0:5])\n",
    "print(message2[:5])\n",
    "print(message2[6:])"
   ]
  },
  {
   "cell_type": "markdown",
   "id": "060d1552",
   "metadata": {},
   "source": [
    "# Strings Methods"
   ]
  },
  {
   "cell_type": "code",
   "execution_count": 6,
   "id": "1948a481",
   "metadata": {},
   "outputs": [
    {
     "name": "stdout",
     "output_type": "stream",
     "text": [
      "HELLO NAJAF\n",
      "hello najaf\n",
      "2\n",
      "Hello najaf\n",
      "Hello Ali\n",
      "6\n",
      "-1\n"
     ]
    }
   ],
   "source": [
    "print(message2.upper())\n",
    "print(message2.lower())\n",
    "print(message2.count('a'))\n",
    "print(message2.capitalize())\n",
    "print(message2.replace('Najaf','Ali')) # We have to save it in another variable it doesnot effect origional\n",
    "print(message2.find('Najaf'))\n",
    "print(message2.find('Ali')) # Replaces but it doesnot effect origional So -1"
   ]
  },
  {
   "cell_type": "markdown",
   "id": "139d2884",
   "metadata": {},
   "source": [
    "# F String"
   ]
  },
  {
   "cell_type": "code",
   "execution_count": 7,
   "id": "2ecdba96",
   "metadata": {},
   "outputs": [
    {
     "name": "stdout",
     "output_type": "stream",
     "text": [
      "Hello Najaf Zawar, Welcome!\n",
      "Hello Najaf Zawar, Welcome!\n",
      "HELLO NAJAF Zawar, Welcome!\n"
     ]
    }
   ],
   "source": [
    "message3 = 'Zawar'\n",
    "print(message2 + ' ' + message3 + ', '+ 'Welcome!') # OLD Method\n",
    "print('{} {}, Welcome!'.format(message2, message3)) # New Method\n",
    "print(f'{message2.upper()} {message3}, Welcome!') # Now We used this Method"
   ]
  },
  {
   "cell_type": "code",
   "execution_count": 8,
   "id": "ccda6774",
   "metadata": {},
   "outputs": [
    {
     "name": "stdout",
     "output_type": "stream",
     "text": [
      "['__add__', '__class__', '__contains__', '__delattr__', '__dir__', '__doc__', '__eq__', '__format__', '__ge__', '__getattribute__', '__getitem__', '__getnewargs__', '__gt__', '__hash__', '__init__', '__init_subclass__', '__iter__', '__le__', '__len__', '__lt__', '__mod__', '__mul__', '__ne__', '__new__', '__reduce__', '__reduce_ex__', '__repr__', '__rmod__', '__rmul__', '__setattr__', '__sizeof__', '__str__', '__subclasshook__', 'capitalize', 'casefold', 'center', 'count', 'encode', 'endswith', 'expandtabs', 'find', 'format', 'format_map', 'index', 'isalnum', 'isalpha', 'isascii', 'isdecimal', 'isdigit', 'isidentifier', 'islower', 'isnumeric', 'isprintable', 'isspace', 'istitle', 'isupper', 'join', 'ljust', 'lower', 'lstrip', 'maketrans', 'partition', 'removeprefix', 'removesuffix', 'replace', 'rfind', 'rindex', 'rjust', 'rpartition', 'rsplit', 'rstrip', 'split', 'splitlines', 'startswith', 'strip', 'swapcase', 'title', 'translate', 'upper', 'zfill']\n"
     ]
    }
   ],
   "source": [
    "print(dir(message)) # Gives us all functions name"
   ]
  },
  {
   "cell_type": "code",
   "execution_count": 9,
   "id": "c796ffed",
   "metadata": {},
   "outputs": [
    {
     "name": "stdout",
     "output_type": "stream",
     "text": [
      "Help on class str in module builtins:\n",
      "\n",
      "class str(object)\n",
      " |  str(object='') -> str\n",
      " |  str(bytes_or_buffer[, encoding[, errors]]) -> str\n",
      " |  \n",
      " |  Create a new string object from the given object. If encoding or\n",
      " |  errors is specified, then the object must expose a data buffer\n",
      " |  that will be decoded using the given encoding and error handler.\n",
      " |  Otherwise, returns the result of object.__str__() (if defined)\n",
      " |  or repr(object).\n",
      " |  encoding defaults to sys.getdefaultencoding().\n",
      " |  errors defaults to 'strict'.\n",
      " |  \n",
      " |  Methods defined here:\n",
      " |  \n",
      " |  __add__(self, value, /)\n",
      " |      Return self+value.\n",
      " |  \n",
      " |  __contains__(self, key, /)\n",
      " |      Return key in self.\n",
      " |  \n",
      " |  __eq__(self, value, /)\n",
      " |      Return self==value.\n",
      " |  \n",
      " |  __format__(self, format_spec, /)\n",
      " |      Return a formatted version of the string as described by format_spec.\n",
      " |  \n",
      " |  __ge__(self, value, /)\n",
      " |      Return self>=value.\n",
      " |  \n",
      " |  __getattribute__(self, name, /)\n",
      " |      Return getattr(self, name).\n",
      " |  \n",
      " |  __getitem__(self, key, /)\n",
      " |      Return self[key].\n",
      " |  \n",
      " |  __getnewargs__(...)\n",
      " |  \n",
      " |  __gt__(self, value, /)\n",
      " |      Return self>value.\n",
      " |  \n",
      " |  __hash__(self, /)\n",
      " |      Return hash(self).\n",
      " |  \n",
      " |  __iter__(self, /)\n",
      " |      Implement iter(self).\n",
      " |  \n",
      " |  __le__(self, value, /)\n",
      " |      Return self<=value.\n",
      " |  \n",
      " |  __len__(self, /)\n",
      " |      Return len(self).\n",
      " |  \n",
      " |  __lt__(self, value, /)\n",
      " |      Return self<value.\n",
      " |  \n",
      " |  __mod__(self, value, /)\n",
      " |      Return self%value.\n",
      " |  \n",
      " |  __mul__(self, value, /)\n",
      " |      Return self*value.\n",
      " |  \n",
      " |  __ne__(self, value, /)\n",
      " |      Return self!=value.\n",
      " |  \n",
      " |  __repr__(self, /)\n",
      " |      Return repr(self).\n",
      " |  \n",
      " |  __rmod__(self, value, /)\n",
      " |      Return value%self.\n",
      " |  \n",
      " |  __rmul__(self, value, /)\n",
      " |      Return value*self.\n",
      " |  \n",
      " |  __sizeof__(self, /)\n",
      " |      Return the size of the string in memory, in bytes.\n",
      " |  \n",
      " |  __str__(self, /)\n",
      " |      Return str(self).\n",
      " |  \n",
      " |  capitalize(self, /)\n",
      " |      Return a capitalized version of the string.\n",
      " |      \n",
      " |      More specifically, make the first character have upper case and the rest lower\n",
      " |      case.\n",
      " |  \n",
      " |  casefold(self, /)\n",
      " |      Return a version of the string suitable for caseless comparisons.\n",
      " |  \n",
      " |  center(self, width, fillchar=' ', /)\n",
      " |      Return a centered string of length width.\n",
      " |      \n",
      " |      Padding is done using the specified fill character (default is a space).\n",
      " |  \n",
      " |  count(...)\n",
      " |      S.count(sub[, start[, end]]) -> int\n",
      " |      \n",
      " |      Return the number of non-overlapping occurrences of substring sub in\n",
      " |      string S[start:end].  Optional arguments start and end are\n",
      " |      interpreted as in slice notation.\n",
      " |  \n",
      " |  encode(self, /, encoding='utf-8', errors='strict')\n",
      " |      Encode the string using the codec registered for encoding.\n",
      " |      \n",
      " |      encoding\n",
      " |        The encoding in which to encode the string.\n",
      " |      errors\n",
      " |        The error handling scheme to use for encoding errors.\n",
      " |        The default is 'strict' meaning that encoding errors raise a\n",
      " |        UnicodeEncodeError.  Other possible values are 'ignore', 'replace' and\n",
      " |        'xmlcharrefreplace' as well as any other name registered with\n",
      " |        codecs.register_error that can handle UnicodeEncodeErrors.\n",
      " |  \n",
      " |  endswith(...)\n",
      " |      S.endswith(suffix[, start[, end]]) -> bool\n",
      " |      \n",
      " |      Return True if S ends with the specified suffix, False otherwise.\n",
      " |      With optional start, test S beginning at that position.\n",
      " |      With optional end, stop comparing S at that position.\n",
      " |      suffix can also be a tuple of strings to try.\n",
      " |  \n",
      " |  expandtabs(self, /, tabsize=8)\n",
      " |      Return a copy where all tab characters are expanded using spaces.\n",
      " |      \n",
      " |      If tabsize is not given, a tab size of 8 characters is assumed.\n",
      " |  \n",
      " |  find(...)\n",
      " |      S.find(sub[, start[, end]]) -> int\n",
      " |      \n",
      " |      Return the lowest index in S where substring sub is found,\n",
      " |      such that sub is contained within S[start:end].  Optional\n",
      " |      arguments start and end are interpreted as in slice notation.\n",
      " |      \n",
      " |      Return -1 on failure.\n",
      " |  \n",
      " |  format(...)\n",
      " |      S.format(*args, **kwargs) -> str\n",
      " |      \n",
      " |      Return a formatted version of S, using substitutions from args and kwargs.\n",
      " |      The substitutions are identified by braces ('{' and '}').\n",
      " |  \n",
      " |  format_map(...)\n",
      " |      S.format_map(mapping) -> str\n",
      " |      \n",
      " |      Return a formatted version of S, using substitutions from mapping.\n",
      " |      The substitutions are identified by braces ('{' and '}').\n",
      " |  \n",
      " |  index(...)\n",
      " |      S.index(sub[, start[, end]]) -> int\n",
      " |      \n",
      " |      Return the lowest index in S where substring sub is found,\n",
      " |      such that sub is contained within S[start:end].  Optional\n",
      " |      arguments start and end are interpreted as in slice notation.\n",
      " |      \n",
      " |      Raises ValueError when the substring is not found.\n",
      " |  \n",
      " |  isalnum(self, /)\n",
      " |      Return True if the string is an alpha-numeric string, False otherwise.\n",
      " |      \n",
      " |      A string is alpha-numeric if all characters in the string are alpha-numeric and\n",
      " |      there is at least one character in the string.\n",
      " |  \n",
      " |  isalpha(self, /)\n",
      " |      Return True if the string is an alphabetic string, False otherwise.\n",
      " |      \n",
      " |      A string is alphabetic if all characters in the string are alphabetic and there\n",
      " |      is at least one character in the string.\n",
      " |  \n",
      " |  isascii(self, /)\n",
      " |      Return True if all characters in the string are ASCII, False otherwise.\n",
      " |      \n",
      " |      ASCII characters have code points in the range U+0000-U+007F.\n",
      " |      Empty string is ASCII too.\n",
      " |  \n",
      " |  isdecimal(self, /)\n",
      " |      Return True if the string is a decimal string, False otherwise.\n",
      " |      \n",
      " |      A string is a decimal string if all characters in the string are decimal and\n",
      " |      there is at least one character in the string.\n",
      " |  \n",
      " |  isdigit(self, /)\n",
      " |      Return True if the string is a digit string, False otherwise.\n",
      " |      \n",
      " |      A string is a digit string if all characters in the string are digits and there\n",
      " |      is at least one character in the string.\n",
      " |  \n",
      " |  isidentifier(self, /)\n",
      " |      Return True if the string is a valid Python identifier, False otherwise.\n",
      " |      \n",
      " |      Call keyword.iskeyword(s) to test whether string s is a reserved identifier,\n",
      " |      such as \"def\" or \"class\".\n",
      " |  \n",
      " |  islower(self, /)\n",
      " |      Return True if the string is a lowercase string, False otherwise.\n",
      " |      \n",
      " |      A string is lowercase if all cased characters in the string are lowercase and\n",
      " |      there is at least one cased character in the string.\n",
      " |  \n",
      " |  isnumeric(self, /)\n",
      " |      Return True if the string is a numeric string, False otherwise.\n",
      " |      \n",
      " |      A string is numeric if all characters in the string are numeric and there is at\n",
      " |      least one character in the string.\n",
      " |  \n",
      " |  isprintable(self, /)\n",
      " |      Return True if the string is printable, False otherwise.\n",
      " |      \n",
      " |      A string is printable if all of its characters are considered printable in\n",
      " |      repr() or if it is empty.\n",
      " |  \n",
      " |  isspace(self, /)\n",
      " |      Return True if the string is a whitespace string, False otherwise.\n",
      " |      \n",
      " |      A string is whitespace if all characters in the string are whitespace and there\n",
      " |      is at least one character in the string.\n",
      " |  \n",
      " |  istitle(self, /)\n",
      " |      Return True if the string is a title-cased string, False otherwise.\n",
      " |      \n",
      " |      In a title-cased string, upper- and title-case characters may only\n",
      " |      follow uncased characters and lowercase characters only cased ones.\n",
      " |  \n",
      " |  isupper(self, /)\n",
      " |      Return True if the string is an uppercase string, False otherwise.\n",
      " |      \n",
      " |      A string is uppercase if all cased characters in the string are uppercase and\n",
      " |      there is at least one cased character in the string.\n",
      " |  \n",
      " |  join(self, iterable, /)\n",
      " |      Concatenate any number of strings.\n",
      " |      \n",
      " |      The string whose method is called is inserted in between each given string.\n",
      " |      The result is returned as a new string.\n",
      " |      \n",
      " |      Example: '.'.join(['ab', 'pq', 'rs']) -> 'ab.pq.rs'\n",
      " |  \n",
      " |  ljust(self, width, fillchar=' ', /)\n",
      " |      Return a left-justified string of length width.\n",
      " |      \n",
      " |      Padding is done using the specified fill character (default is a space).\n",
      " |  \n",
      " |  lower(self, /)\n",
      " |      Return a copy of the string converted to lowercase.\n",
      " |  \n",
      " |  lstrip(self, chars=None, /)\n",
      " |      Return a copy of the string with leading whitespace removed.\n",
      " |      \n",
      " |      If chars is given and not None, remove characters in chars instead.\n",
      " |  \n",
      " |  partition(self, sep, /)\n",
      " |      Partition the string into three parts using the given separator.\n",
      " |      \n",
      " |      This will search for the separator in the string.  If the separator is found,\n",
      " |      returns a 3-tuple containing the part before the separator, the separator\n",
      " |      itself, and the part after it.\n",
      " |      \n",
      " |      If the separator is not found, returns a 3-tuple containing the original string\n",
      " |      and two empty strings.\n",
      " |  \n",
      " |  removeprefix(self, prefix, /)\n",
      " |      Return a str with the given prefix string removed if present.\n",
      " |      \n",
      " |      If the string starts with the prefix string, return string[len(prefix):].\n",
      " |      Otherwise, return a copy of the original string.\n",
      " |  \n",
      " |  removesuffix(self, suffix, /)\n",
      " |      Return a str with the given suffix string removed if present.\n",
      " |      \n",
      " |      If the string ends with the suffix string and that suffix is not empty,\n",
      " |      return string[:-len(suffix)]. Otherwise, return a copy of the original\n",
      " |      string.\n",
      " |  \n",
      " |  replace(self, old, new, count=-1, /)\n",
      " |      Return a copy with all occurrences of substring old replaced by new.\n",
      " |      \n",
      " |        count\n",
      " |          Maximum number of occurrences to replace.\n",
      " |          -1 (the default value) means replace all occurrences.\n",
      " |      \n",
      " |      If the optional argument count is given, only the first count occurrences are\n",
      " |      replaced.\n",
      " |  \n",
      " |  rfind(...)\n",
      " |      S.rfind(sub[, start[, end]]) -> int\n",
      " |      \n",
      " |      Return the highest index in S where substring sub is found,\n",
      " |      such that sub is contained within S[start:end].  Optional\n",
      " |      arguments start and end are interpreted as in slice notation.\n",
      " |      \n",
      " |      Return -1 on failure.\n",
      " |  \n",
      " |  rindex(...)\n",
      " |      S.rindex(sub[, start[, end]]) -> int\n",
      " |      \n",
      " |      Return the highest index in S where substring sub is found,\n",
      " |      such that sub is contained within S[start:end].  Optional\n",
      " |      arguments start and end are interpreted as in slice notation.\n",
      " |      \n",
      " |      Raises ValueError when the substring is not found.\n",
      " |  \n",
      " |  rjust(self, width, fillchar=' ', /)\n",
      " |      Return a right-justified string of length width.\n",
      " |      \n",
      " |      Padding is done using the specified fill character (default is a space).\n",
      " |  \n",
      " |  rpartition(self, sep, /)\n",
      " |      Partition the string into three parts using the given separator.\n",
      " |      \n",
      " |      This will search for the separator in the string, starting at the end. If\n",
      " |      the separator is found, returns a 3-tuple containing the part before the\n",
      " |      separator, the separator itself, and the part after it.\n",
      " |      \n",
      " |      If the separator is not found, returns a 3-tuple containing two empty strings\n",
      " |      and the original string.\n",
      " |  \n",
      " |  rsplit(self, /, sep=None, maxsplit=-1)\n",
      " |      Return a list of the words in the string, using sep as the delimiter string.\n",
      " |      \n",
      " |        sep\n",
      " |          The delimiter according which to split the string.\n",
      " |          None (the default value) means split according to any whitespace,\n",
      " |          and discard empty strings from the result.\n",
      " |        maxsplit\n",
      " |          Maximum number of splits to do.\n",
      " |          -1 (the default value) means no limit.\n",
      " |      \n",
      " |      Splits are done starting at the end of the string and working to the front.\n",
      " |  \n",
      " |  rstrip(self, chars=None, /)\n",
      " |      Return a copy of the string with trailing whitespace removed.\n",
      " |      \n",
      " |      If chars is given and not None, remove characters in chars instead.\n",
      " |  \n",
      " |  split(self, /, sep=None, maxsplit=-1)\n",
      " |      Return a list of the words in the string, using sep as the delimiter string.\n",
      " |      \n",
      " |      sep\n",
      " |        The delimiter according which to split the string.\n",
      " |        None (the default value) means split according to any whitespace,\n",
      " |        and discard empty strings from the result.\n",
      " |      maxsplit\n",
      " |        Maximum number of splits to do.\n",
      " |        -1 (the default value) means no limit.\n",
      " |  \n",
      " |  splitlines(self, /, keepends=False)\n",
      " |      Return a list of the lines in the string, breaking at line boundaries.\n",
      " |      \n",
      " |      Line breaks are not included in the resulting list unless keepends is given and\n",
      " |      true.\n",
      " |  \n",
      " |  startswith(...)\n",
      " |      S.startswith(prefix[, start[, end]]) -> bool\n",
      " |      \n",
      " |      Return True if S starts with the specified prefix, False otherwise.\n",
      " |      With optional start, test S beginning at that position.\n",
      " |      With optional end, stop comparing S at that position.\n",
      " |      prefix can also be a tuple of strings to try.\n",
      " |  \n",
      " |  strip(self, chars=None, /)\n",
      " |      Return a copy of the string with leading and trailing whitespace removed.\n",
      " |      \n",
      " |      If chars is given and not None, remove characters in chars instead.\n",
      " |  \n",
      " |  swapcase(self, /)\n",
      " |      Convert uppercase characters to lowercase and lowercase characters to uppercase.\n",
      " |  \n",
      " |  title(self, /)\n",
      " |      Return a version of the string where each word is titlecased.\n",
      " |      \n",
      " |      More specifically, words start with uppercased characters and all remaining\n",
      " |      cased characters have lower case.\n",
      " |  \n",
      " |  translate(self, table, /)\n",
      " |      Replace each character in the string using the given translation table.\n",
      " |      \n",
      " |        table\n",
      " |          Translation table, which must be a mapping of Unicode ordinals to\n",
      " |          Unicode ordinals, strings, or None.\n",
      " |      \n",
      " |      The table must implement lookup/indexing via __getitem__, for instance a\n",
      " |      dictionary or list.  If this operation raises LookupError, the character is\n",
      " |      left untouched.  Characters mapped to None are deleted.\n",
      " |  \n",
      " |  upper(self, /)\n",
      " |      Return a copy of the string converted to uppercase.\n",
      " |  \n",
      " |  zfill(self, width, /)\n",
      " |      Pad a numeric string with zeros on the left, to fill a field of the given width.\n",
      " |      \n",
      " |      The string is never truncated.\n",
      " |  \n",
      " |  ----------------------------------------------------------------------\n",
      " |  Static methods defined here:\n",
      " |  \n",
      " |  __new__(*args, **kwargs) from builtins.type\n",
      " |      Create and return a new object.  See help(type) for accurate signature.\n",
      " |  \n",
      " |  maketrans(...)\n",
      " |      Return a translation table usable for str.translate().\n",
      " |      \n",
      " |      If there is only one argument, it must be a dictionary mapping Unicode\n",
      " |      ordinals (integers) or characters to Unicode ordinals, strings or None.\n",
      " |      Character keys will be then converted to ordinals.\n",
      " |      If there are two arguments, they must be strings of equal length, and\n",
      " |      in the resulting dictionary, each character in x will be mapped to the\n",
      " |      character at the same position in y. If there is a third argument, it\n",
      " |      must be a string, whose characters will be mapped to None in the result.\n",
      "\n",
      "None\n"
     ]
    }
   ],
   "source": [
    "print(help(str)) # Gives us all functions name with Information"
   ]
  },
  {
   "cell_type": "markdown",
   "id": "f309ca4a",
   "metadata": {},
   "source": [
    "# Integeres & Floats "
   ]
  },
  {
   "cell_type": "code",
   "execution_count": 10,
   "id": "05fc4c42",
   "metadata": {},
   "outputs": [
    {
     "name": "stdout",
     "output_type": "stream",
     "text": [
      "<class 'int'>\n",
      "<class 'float'>\n"
     ]
    }
   ],
   "source": [
    "num1 = 5\n",
    "num2 = 5.5\n",
    "print(type(num1)) # Tell us type of variable\n",
    "print(type(num2))"
   ]
  },
  {
   "cell_type": "markdown",
   "id": "c1526e71",
   "metadata": {},
   "source": [
    "# Arthematic Operation"
   ]
  },
  {
   "cell_type": "code",
   "execution_count": 11,
   "id": "60a6c073",
   "metadata": {},
   "outputs": [
    {
     "name": "stdout",
     "output_type": "stream",
     "text": [
      "11\n",
      "5\n",
      "24\n",
      "512\n",
      "2.6666666666666665\n",
      "2\n"
     ]
    }
   ],
   "source": [
    "print(8 + 3) # Addition\n",
    "print(8 - 3) # Subtraction\n",
    "print(8 * 3) # Multiplication\n",
    "print(8 ** 3) # Square\n",
    "print(8 / 3) # Division\n",
    "print(8 // 3) #Floor Division"
   ]
  },
  {
   "cell_type": "markdown",
   "id": "540d36c5",
   "metadata": {},
   "source": [
    "# More with Int & Floats"
   ]
  },
  {
   "cell_type": "code",
   "execution_count": 12,
   "id": "08a95f0c",
   "metadata": {},
   "outputs": [
    {
     "name": "stdout",
     "output_type": "stream",
     "text": [
      "3\n",
      "4\n",
      "40\n"
     ]
    }
   ],
   "source": [
    "num3 = 2\n",
    "num3 = num3 +1  # 1 Increment method\n",
    "print(num3)\n",
    "num3 += 1      # 2 Increment method (Mostly used)\n",
    "print(num3)\n",
    "num3 *= 10\n",
    "print(num3)"
   ]
  },
  {
   "cell_type": "code",
   "execution_count": 13,
   "id": "aef84c88",
   "metadata": {},
   "outputs": [
    {
     "name": "stdout",
     "output_type": "stream",
     "text": [
      "5\n"
     ]
    }
   ],
   "source": [
    "print(abs(-5)) # Convert Negative to Positive"
   ]
  },
  {
   "cell_type": "code",
   "execution_count": 14,
   "id": "962a8dab",
   "metadata": {},
   "outputs": [
    {
     "name": "stdout",
     "output_type": "stream",
     "text": [
      "4\n",
      "3.8\n",
      "3.75\n"
     ]
    }
   ],
   "source": [
    "print(round(3.75))\n",
    "print(round(3.75, 1))  # Round of the number at first decimal place\n",
    "print(round(3.75265, 2))  # Round of the number at second decimal place"
   ]
  },
  {
   "cell_type": "markdown",
   "id": "afe87ed2",
   "metadata": {},
   "source": [
    "# Lists"
   ]
  },
  {
   "cell_type": "code",
   "execution_count": 15,
   "id": "65e96ade",
   "metadata": {},
   "outputs": [
    {
     "name": "stdout",
     "output_type": "stream",
     "text": [
      "4\n"
     ]
    }
   ],
   "source": [
    "my_list = ['History','Math','Physics','CompScience']\n",
    "print(len(my_list)) # Length of list"
   ]
  },
  {
   "cell_type": "markdown",
   "id": "d9674c89",
   "metadata": {},
   "source": [
    "# List Slicing"
   ]
  },
  {
   "cell_type": "code",
   "execution_count": 16,
   "id": "8ffef865",
   "metadata": {},
   "outputs": [
    {
     "name": "stdout",
     "output_type": "stream",
     "text": [
      "History\n"
     ]
    }
   ],
   "source": [
    "print(my_list[0]) # Print 1st item of list"
   ]
  },
  {
   "cell_type": "code",
   "execution_count": 17,
   "id": "69d21848",
   "metadata": {},
   "outputs": [
    {
     "name": "stdout",
     "output_type": "stream",
     "text": [
      "CompScience\n"
     ]
    }
   ],
   "source": [
    "print(my_list[-1]) # Print last item of list"
   ]
  },
  {
   "cell_type": "code",
   "execution_count": 18,
   "id": "ccbc0e76",
   "metadata": {},
   "outputs": [
    {
     "name": "stdout",
     "output_type": "stream",
     "text": [
      "['History', 'Math']\n",
      "['History', 'Math']\n"
     ]
    }
   ],
   "source": [
    "print(my_list[0:2])\n",
    "print(my_list[:2])"
   ]
  },
  {
   "cell_type": "code",
   "execution_count": 19,
   "id": "d54af531",
   "metadata": {},
   "outputs": [
    {
     "name": "stdout",
     "output_type": "stream",
     "text": [
      "['Physics', 'CompScience']\n"
     ]
    }
   ],
   "source": [
    "print(my_list[2:])"
   ]
  },
  {
   "cell_type": "markdown",
   "id": "77f6d723",
   "metadata": {},
   "source": [
    "# List Methods"
   ]
  },
  {
   "cell_type": "code",
   "execution_count": 20,
   "id": "fd80b6f6",
   "metadata": {},
   "outputs": [
    {
     "name": "stdout",
     "output_type": "stream",
     "text": [
      "['History', 'Math', 'Physics', 'CompScience', 'Art']\n"
     ]
    }
   ],
   "source": [
    "my_list.append('Art') # Art can be added in the end of list\n",
    "print(my_list)"
   ]
  },
  {
   "cell_type": "code",
   "execution_count": 21,
   "id": "42165e94",
   "metadata": {},
   "outputs": [
    {
     "name": "stdout",
     "output_type": "stream",
     "text": [
      "['AI', 'History', 'Math', 'Physics', 'CompScience', 'Art']\n"
     ]
    }
   ],
   "source": [
    "my_list.insert(0, 'AI') # Insert at given index\n",
    "print(my_list)"
   ]
  },
  {
   "cell_type": "code",
   "execution_count": 22,
   "id": "43419236",
   "metadata": {},
   "outputs": [
    {
     "name": "stdout",
     "output_type": "stream",
     "text": [
      "['AI', 'History', 'Math', 'Physics', 'CompScience', 'Art', 'ITC', 'Web']\n"
     ]
    }
   ],
   "source": [
    "courses = ['ITC', 'Web']\n",
    "my_list.extend(courses) # We use extend when we have multiple values & add values properly\n",
    "print(my_list)"
   ]
  },
  {
   "cell_type": "code",
   "execution_count": 23,
   "id": "d283beb9",
   "metadata": {},
   "outputs": [
    {
     "name": "stdout",
     "output_type": "stream",
     "text": [
      "[['OOP', 'DSA'], 'ITC', 'Web']\n"
     ]
    }
   ],
   "source": [
    "core_courses = ['OOP', 'DSA']\n",
    "courses.insert(0,core_courses)\n",
    "print(courses)"
   ]
  },
  {
   "cell_type": "code",
   "execution_count": 24,
   "id": "fddbff18",
   "metadata": {},
   "outputs": [
    {
     "name": "stdout",
     "output_type": "stream",
     "text": [
      "[['OOP', 'DSA'], 'ITC', 'Web', ['PakStudy', 'ISL']]\n"
     ]
    }
   ],
   "source": [
    "extra_courses = ['PakStudy', 'ISL']\n",
    "courses.append(extra_courses)\n",
    "print(courses)"
   ]
  },
  {
   "cell_type": "code",
   "execution_count": 25,
   "id": "868dd549",
   "metadata": {},
   "outputs": [
    {
     "name": "stdout",
     "output_type": "stream",
     "text": [
      "['AI', 'History', 'Math', 'Physics', 'CompScience', 'Art', 'ITC', 'Web']\n",
      "['AI', 'History', 'Physics', 'CompScience', 'Art', 'ITC', 'Web']\n",
      "['AI', 'History', 'Physics', 'CompScience', 'Art', 'ITC']\n"
     ]
    }
   ],
   "source": [
    "print(my_list)\n",
    "my_list.remove('Math') # Remove given item form list\n",
    "print(my_list)\n",
    "my_list.pop() # Remove item from last & we can grab the item using another variable for use\n",
    "print(my_list)"
   ]
  },
  {
   "cell_type": "code",
   "execution_count": 26,
   "id": "3f5af510",
   "metadata": {},
   "outputs": [
    {
     "name": "stdout",
     "output_type": "stream",
     "text": [
      "['ITC', 'Art', 'CompScience', 'Physics', 'History', 'AI']\n"
     ]
    }
   ],
   "source": [
    "my_list.reverse() # Reverse the List\n",
    "print(my_list)"
   ]
  },
  {
   "cell_type": "code",
   "execution_count": 27,
   "id": "08d0d19c",
   "metadata": {},
   "outputs": [
    {
     "name": "stdout",
     "output_type": "stream",
     "text": [
      "['AI', 'Art', 'CompScience', 'History', 'ITC', 'Physics']\n",
      "['ITC', 'Art', 'CompScience', 'Physics', 'History', 'AI']\n",
      "['AI', 'Art', 'CompScience', 'History', 'ITC', 'Physics']\n"
     ]
    }
   ],
   "source": [
    "sorted_list = sorted (my_list) # if we donot want to change the origional array\n",
    "print(sorted_list)\n",
    "print(my_list) # After Sorting our origional list is not changed\n",
    "my_list.sort() # Sort origional list Alphabetically or ascending\n",
    "print(my_list)"
   ]
  },
  {
   "cell_type": "code",
   "execution_count": 28,
   "id": "7a645501",
   "metadata": {},
   "outputs": [
    {
     "name": "stdout",
     "output_type": "stream",
     "text": [
      "3\n",
      "43\n",
      "78\n"
     ]
    }
   ],
   "source": [
    "nums = [3,5,12,43,7,8]\n",
    "print(min(nums))  # Display Minimum number in list\n",
    "print(max(nums))  # Display Maximium number in list\n",
    "print(sum(nums))  # Display Sum of list"
   ]
  },
  {
   "cell_type": "markdown",
   "id": "1aa461e1",
   "metadata": {},
   "source": [
    "# Finding item from list"
   ]
  },
  {
   "cell_type": "code",
   "execution_count": 29,
   "id": "6f60eec7",
   "metadata": {},
   "outputs": [
    {
     "name": "stdout",
     "output_type": "stream",
     "text": [
      "['AI', 'Art', 'CompScience', 'History', 'ITC', 'Physics']\n",
      "5\n",
      "True\n",
      "False\n"
     ]
    }
   ],
   "source": [
    "print(my_list)\n",
    "print(my_list.index('Physics'))\n",
    "print('Art' in my_list)\n",
    "print('Math' in my_list)"
   ]
  },
  {
   "cell_type": "code",
   "execution_count": 30,
   "id": "3ca6dcff",
   "metadata": {},
   "outputs": [
    {
     "name": "stdout",
     "output_type": "stream",
     "text": [
      "0 AI\n",
      "1 Art\n",
      "2 CompScience\n",
      "3 History\n",
      "4 ITC\n",
      "5 Physics\n"
     ]
    }
   ],
   "source": [
    "for index,course in enumerate(my_list):\n",
    "    print(index, course)"
   ]
  },
  {
   "cell_type": "code",
   "execution_count": 31,
   "id": "498ea215",
   "metadata": {},
   "outputs": [
    {
     "name": "stdout",
     "output_type": "stream",
     "text": [
      "1 AI\n",
      "2 Art\n",
      "3 CompScience\n",
      "4 History\n",
      "5 ITC\n",
      "6 Physics\n"
     ]
    }
   ],
   "source": [
    "for index,course in enumerate(my_list,1):  # Display all subjects but index them from 1 to so on\n",
    "    print(index, course)"
   ]
  },
  {
   "cell_type": "markdown",
   "id": "61328b3b",
   "metadata": {},
   "source": [
    "# Convert List to String"
   ]
  },
  {
   "cell_type": "code",
   "execution_count": 32,
   "id": "9bd19f94",
   "metadata": {},
   "outputs": [
    {
     "name": "stdout",
     "output_type": "stream",
     "text": [
      "['AI', 'Art', 'CompScience', 'History', 'ITC', 'Physics']\n",
      "AI,Art,CompScience,History,ITC,Physics\n",
      "AI-Art-CompScience-History-ITC-Physics\n",
      "['AI', 'Art', 'CompScience', 'History', 'ITC', 'Physics']\n"
     ]
    }
   ],
   "source": [
    "print(my_list)\n",
    "course_str = ','.join(my_list)\n",
    "print(course_str)\n",
    "course_str_2 = '-'.join(my_list)\n",
    "print(course_str_2)\n",
    "print(my_list)"
   ]
  },
  {
   "cell_type": "code",
   "execution_count": 33,
   "id": "8decd155",
   "metadata": {},
   "outputs": [
    {
     "name": "stdout",
     "output_type": "stream",
     "text": [
      "['AI', 'Art', 'CompScience', 'History', 'ITC', 'Physics']\n",
      "['AI', 'Art', 'CompScience', 'History', 'ITC', 'Physics']\n"
     ]
    }
   ],
   "source": [
    "new_list = course_str.split(',')  # we use here \",\" or \"-\" which we used while converting from list to string Compulsary\n",
    "new_list_2= course_str_2.split('-')\n",
    "print(new_list)\n",
    "print(new_list_2)"
   ]
  },
  {
   "cell_type": "markdown",
   "id": "d99f7255",
   "metadata": {},
   "source": [
    "# Tuple"
   ]
  },
  {
   "cell_type": "code",
   "execution_count": 34,
   "id": "68e9327f",
   "metadata": {},
   "outputs": [
    {
     "name": "stdout",
     "output_type": "stream",
     "text": [
      "('History', 'Math', 'Physics', 'CompScience')\n"
     ]
    }
   ],
   "source": [
    "my_tuple =  ('History','Math','Physics','CompScience') # Tuples are Immutable(Can't Modify)\n",
    "print(my_tuple)"
   ]
  },
  {
   "cell_type": "code",
   "execution_count": 35,
   "id": "91686118",
   "metadata": {},
   "outputs": [
    {
     "data": {
      "text/plain": [
       "'Math'"
      ]
     },
     "execution_count": 35,
     "metadata": {},
     "output_type": "execute_result"
    }
   ],
   "source": [
    "my_tuple[1] # To find the value we use square bracket"
   ]
  },
  {
   "cell_type": "markdown",
   "id": "a3627aba",
   "metadata": {},
   "source": [
    "# Tuple Method"
   ]
  },
  {
   "cell_type": "code",
   "execution_count": 36,
   "id": "611f3dd8",
   "metadata": {},
   "outputs": [
    {
     "data": {
      "text/plain": [
       "1"
      ]
     },
     "execution_count": 36,
     "metadata": {},
     "output_type": "execute_result"
    }
   ],
   "source": [
    "my_tuple.count('Math')"
   ]
  },
  {
   "cell_type": "code",
   "execution_count": 37,
   "id": "779ef0c7",
   "metadata": {},
   "outputs": [
    {
     "data": {
      "text/plain": [
       "0"
      ]
     },
     "execution_count": 37,
     "metadata": {},
     "output_type": "execute_result"
    }
   ],
   "source": [
    "my_tuple.index('History')"
   ]
  },
  {
   "cell_type": "markdown",
   "id": "58e8ca4a",
   "metadata": {},
   "source": [
    "# Sets"
   ]
  },
  {
   "cell_type": "code",
   "execution_count": 38,
   "id": "741ca9e3",
   "metadata": {},
   "outputs": [],
   "source": [
    "#Sets only contain unique value and & donot care about order of items\n",
    "cs_courses = {'History','Math','Physics','CompScience','Math'}\n",
    "art_courses = {'History','Math','Physics','Art','Design'}"
   ]
  },
  {
   "cell_type": "code",
   "execution_count": 39,
   "id": "03bd6a2e",
   "metadata": {},
   "outputs": [
    {
     "name": "stdout",
     "output_type": "stream",
     "text": [
      "{'CompScience', 'Physics', 'History', 'Math'}\n",
      "{'Design', 'Art', 'History', 'Math', 'Physics'}\n"
     ]
    }
   ],
   "source": [
    "print(cs_courses)\n",
    "print(art_courses)"
   ]
  },
  {
   "cell_type": "code",
   "execution_count": 40,
   "id": "c7e867fe",
   "metadata": {},
   "outputs": [
    {
     "name": "stdout",
     "output_type": "stream",
     "text": [
      "True\n",
      "False\n"
     ]
    }
   ],
   "source": [
    "print('Math' in cs_courses)\n",
    "print('Design' in cs_courses)"
   ]
  },
  {
   "cell_type": "markdown",
   "id": "7fe57423",
   "metadata": {},
   "source": [
    "# Sets Methods"
   ]
  },
  {
   "cell_type": "code",
   "execution_count": 41,
   "id": "25f8bdd5",
   "metadata": {},
   "outputs": [
    {
     "name": "stdout",
     "output_type": "stream",
     "text": [
      "{'Physics', 'History', 'Math'}\n"
     ]
    }
   ],
   "source": [
    "print(cs_courses.intersection(art_courses))"
   ]
  },
  {
   "cell_type": "code",
   "execution_count": 42,
   "id": "81de479e",
   "metadata": {},
   "outputs": [
    {
     "name": "stdout",
     "output_type": "stream",
     "text": [
      "{'CompScience'}\n"
     ]
    }
   ],
   "source": [
    "print(cs_courses.difference(art_courses))"
   ]
  },
  {
   "cell_type": "code",
   "execution_count": 43,
   "id": "13a0ddd0",
   "metadata": {},
   "outputs": [
    {
     "name": "stdout",
     "output_type": "stream",
     "text": [
      "{'Design', 'Art'}\n"
     ]
    }
   ],
   "source": [
    "print(art_courses.difference(cs_courses))"
   ]
  },
  {
   "cell_type": "code",
   "execution_count": 44,
   "id": "ca043742",
   "metadata": {},
   "outputs": [
    {
     "name": "stdout",
     "output_type": "stream",
     "text": [
      "{'CompScience', 'Design', 'History', 'Math', 'Art', 'Physics'}\n"
     ]
    }
   ],
   "source": [
    "print(cs_courses.union(art_courses))"
   ]
  },
  {
   "cell_type": "markdown",
   "id": "92840d99",
   "metadata": {},
   "source": [
    "# How to Create Empty List , Tuple , Set"
   ]
  },
  {
   "cell_type": "markdown",
   "id": "2cea650c",
   "metadata": {},
   "source": [
    "# List"
   ]
  },
  {
   "cell_type": "code",
   "execution_count": 45,
   "id": "ddb548b3",
   "metadata": {},
   "outputs": [],
   "source": [
    "empty_lst =[]\n",
    "# OR\n",
    "empty_list = list()"
   ]
  },
  {
   "cell_type": "markdown",
   "id": "bfa7ccc9",
   "metadata": {},
   "source": [
    "# Tuple "
   ]
  },
  {
   "cell_type": "code",
   "execution_count": 46,
   "id": "733badc0",
   "metadata": {},
   "outputs": [],
   "source": [
    "empty_tup = ()\n",
    "# OR\n",
    "empty_tuple = tuple()"
   ]
  },
  {
   "cell_type": "markdown",
   "id": "4fb49357",
   "metadata": {},
   "source": [
    "# Sets"
   ]
  },
  {
   "cell_type": "code",
   "execution_count": 47,
   "id": "b90179c7",
   "metadata": {},
   "outputs": [],
   "source": [
    "# empty_set = {}   We cannot create empty set like this\n",
    "empty_set = set()  # Correct Way"
   ]
  },
  {
   "cell_type": "markdown",
   "id": "6e399449",
   "metadata": {},
   "source": [
    "# Dictonaries"
   ]
  },
  {
   "cell_type": "code",
   "execution_count": 48,
   "id": "6531f332",
   "metadata": {},
   "outputs": [],
   "source": [
    "my_dict = {'name':'Ali', 'age': 25, 'courses':['Math','PakStudy']} # keys & values could be of any type"
   ]
  },
  {
   "cell_type": "code",
   "execution_count": 49,
   "id": "0e14b78b",
   "metadata": {},
   "outputs": [
    {
     "name": "stdout",
     "output_type": "stream",
     "text": [
      "{'name': 'Ali', 'age': 25, 'courses': ['Math', 'PakStudy']}\n"
     ]
    }
   ],
   "source": [
    "print(my_dict)"
   ]
  },
  {
   "cell_type": "markdown",
   "id": "dfcbb155",
   "metadata": {},
   "source": [
    "# Dictionary Method"
   ]
  },
  {
   "cell_type": "code",
   "execution_count": 50,
   "id": "8d4ac423",
   "metadata": {},
   "outputs": [
    {
     "name": "stdout",
     "output_type": "stream",
     "text": [
      "Ali\n"
     ]
    }
   ],
   "source": [
    "print(my_dict['name']) # In dictionary we can access values through keys its not a good method"
   ]
  },
  {
   "cell_type": "code",
   "execution_count": 51,
   "id": "00a9e846",
   "metadata": {},
   "outputs": [
    {
     "data": {
      "text/plain": [
       "'Ali'"
      ]
     },
     "execution_count": 51,
     "metadata": {},
     "output_type": "execute_result"
    }
   ],
   "source": [
    "my_dict.get('name')"
   ]
  },
  {
   "cell_type": "code",
   "execution_count": 52,
   "id": "37340366",
   "metadata": {},
   "outputs": [],
   "source": [
    "my_dict.get('id') # I gives us none but here not displayed"
   ]
  },
  {
   "cell_type": "code",
   "execution_count": 53,
   "id": "3cfbe02d",
   "metadata": {},
   "outputs": [
    {
     "data": {
      "text/plain": [
       "'Not Found'"
      ]
     },
     "execution_count": 53,
     "metadata": {},
     "output_type": "execute_result"
    }
   ],
   "source": [
    "my_dict.get('id','Not Found')"
   ]
  },
  {
   "cell_type": "code",
   "execution_count": 54,
   "id": "3e3b6b23",
   "metadata": {},
   "outputs": [
    {
     "name": "stdout",
     "output_type": "stream",
     "text": [
      "{'name': 'Mahdi', 'age': 25, 'courses': ['Math', 'PakStudy']}\n"
     ]
    }
   ],
   "source": [
    "my_dict['name'] = 'Mahdi' # We can do this but not good method\n",
    "print(my_dict)"
   ]
  },
  {
   "cell_type": "code",
   "execution_count": 55,
   "id": "4c13b57a",
   "metadata": {},
   "outputs": [
    {
     "name": "stdout",
     "output_type": "stream",
     "text": [
      "{'name': 'Hussain', 'age': '25', 'courses': ['Math', 'PakStudy'], 'phone': 555}\n"
     ]
    }
   ],
   "source": [
    "my_dict.update({'name':'Hussain', 'age':'25', 'phone':555})\n",
    "print(my_dict)"
   ]
  },
  {
   "cell_type": "code",
   "execution_count": 56,
   "id": "a3a8191a",
   "metadata": {},
   "outputs": [
    {
     "name": "stdout",
     "output_type": "stream",
     "text": [
      "{'name': 'Hussain', 'courses': ['Math', 'PakStudy'], 'phone': 555}\n"
     ]
    }
   ],
   "source": [
    "del my_dict['age'] # we cannot save value when using this deleted function\n",
    "print(my_dict)"
   ]
  },
  {
   "cell_type": "code",
   "execution_count": 57,
   "id": "eef108d3",
   "metadata": {},
   "outputs": [
    {
     "name": "stdout",
     "output_type": "stream",
     "text": [
      "555\n"
     ]
    }
   ],
   "source": [
    "phone_no = my_dict.pop('phone')  # using pop we can save our value\n",
    "print(phone_no)"
   ]
  },
  {
   "cell_type": "code",
   "execution_count": 58,
   "id": "1111a91d",
   "metadata": {},
   "outputs": [
    {
     "name": "stdout",
     "output_type": "stream",
     "text": [
      "{'name': 'Hussain', 'courses': ['Math', 'PakStudy']}\n",
      "2\n"
     ]
    }
   ],
   "source": [
    "print(my_dict)\n",
    "print(len(my_dict))"
   ]
  },
  {
   "cell_type": "code",
   "execution_count": 59,
   "id": "9c010685",
   "metadata": {},
   "outputs": [
    {
     "name": "stdout",
     "output_type": "stream",
     "text": [
      "dict_keys(['name', 'courses'])\n"
     ]
    }
   ],
   "source": [
    "print(my_dict.keys())"
   ]
  },
  {
   "cell_type": "code",
   "execution_count": 60,
   "id": "977534c9",
   "metadata": {},
   "outputs": [
    {
     "name": "stdout",
     "output_type": "stream",
     "text": [
      "dict_values(['Hussain', ['Math', 'PakStudy']])\n"
     ]
    }
   ],
   "source": [
    "print(my_dict.values())"
   ]
  },
  {
   "cell_type": "code",
   "execution_count": 61,
   "id": "e43d0df0",
   "metadata": {},
   "outputs": [
    {
     "name": "stdout",
     "output_type": "stream",
     "text": [
      "dict_items([('name', 'Hussain'), ('courses', ['Math', 'PakStudy'])])\n"
     ]
    }
   ],
   "source": [
    "print(my_dict.items())"
   ]
  },
  {
   "cell_type": "markdown",
   "id": "6801ca1e",
   "metadata": {},
   "source": [
    "# we also use for loop to display our dictionary"
   ]
  },
  {
   "cell_type": "code",
   "execution_count": 62,
   "id": "a2c834e5",
   "metadata": {},
   "outputs": [
    {
     "name": "stdout",
     "output_type": "stream",
     "text": [
      "name\n",
      "courses\n"
     ]
    }
   ],
   "source": [
    "for key in my_dict:\n",
    "    print(key)"
   ]
  },
  {
   "cell_type": "code",
   "execution_count": 63,
   "id": "9d1401d2",
   "metadata": {},
   "outputs": [
    {
     "name": "stdout",
     "output_type": "stream",
     "text": [
      "name Hussain\n",
      "courses ['Math', 'PakStudy']\n"
     ]
    }
   ],
   "source": [
    "for key,value in my_dict.items():\n",
    "    print(key,value)"
   ]
  },
  {
   "cell_type": "markdown",
   "id": "0bf7e1e7",
   "metadata": {},
   "source": [
    "# IF ELSE"
   ]
  },
  {
   "cell_type": "code",
   "execution_count": 64,
   "id": "9575300e",
   "metadata": {},
   "outputs": [
    {
     "name": "stdout",
     "output_type": "stream",
     "text": [
      "Good\n"
     ]
    }
   ],
   "source": [
    "if True:             # If only runs when our condition satifies / True\n",
    "    print('Good')"
   ]
  },
  {
   "cell_type": "code",
   "execution_count": 65,
   "id": "173343a6",
   "metadata": {},
   "outputs": [],
   "source": [
    "if False:\n",
    "    print('Not Good')"
   ]
  },
  {
   "cell_type": "markdown",
   "id": "6075a9c9",
   "metadata": {},
   "source": [
    "# Use of NOT"
   ]
  },
  {
   "cell_type": "code",
   "execution_count": 66,
   "id": "57678c51",
   "metadata": {},
   "outputs": [
    {
     "name": "stdout",
     "output_type": "stream",
     "text": [
      "Please Login\n"
     ]
    }
   ],
   "source": [
    "# Not is used to switch boolean variable to true to false / false to true\n",
    "login = False\n",
    "if not login:\n",
    "    print('Please Login')\n",
    "else:\n",
    "    print('Welcome')"
   ]
  },
  {
   "cell_type": "code",
   "execution_count": 67,
   "id": "70ed407a",
   "metadata": {},
   "outputs": [
    {
     "name": "stdout",
     "output_type": "stream",
     "text": [
      "Welcome\n"
     ]
    }
   ],
   "source": [
    "login = True\n",
    "if not login:\n",
    "    print('Please Login')\n",
    "else:\n",
    "    print('Welcome')"
   ]
  },
  {
   "cell_type": "markdown",
   "id": "91880839",
   "metadata": {},
   "source": [
    "# Object Identity == OR Is"
   ]
  },
  {
   "cell_type": "code",
   "execution_count": 68,
   "id": "eb9d7e0b",
   "metadata": {},
   "outputs": [
    {
     "name": "stdout",
     "output_type": "stream",
     "text": [
      "True\n",
      "False\n",
      "2698168740544\n",
      "2698168740352\n"
     ]
    }
   ],
   "source": [
    "a = [1,2,3]\n",
    "b = [1,2,3]\n",
    "print(a==b)\n",
    "print(a is b) # False because they are two different object in memory as ids are shown belown\n",
    "print(id(a))\n",
    "print(id(b))"
   ]
  },
  {
   "cell_type": "code",
   "execution_count": 69,
   "id": "072a5f58",
   "metadata": {},
   "outputs": [
    {
     "name": "stdout",
     "output_type": "stream",
     "text": [
      "True\n",
      "True\n",
      "2698168740544\n",
      "2698168740544\n"
     ]
    }
   ],
   "source": [
    "# If instead of this we write\n",
    "b = a\n",
    "# Now its shows true for both because ids for both are same\n",
    "print(a == b)\n",
    "print(a is b)\n",
    "print(id(a))\n",
    "print(id(b))"
   ]
  },
  {
   "cell_type": "code",
   "execution_count": 70,
   "id": "79d0b508",
   "metadata": {},
   "outputs": [
    {
     "name": "stdout",
     "output_type": "stream",
     "text": [
      "True\n"
     ]
    }
   ],
   "source": [
    "print(id(a) == id(b)) # We also write like this"
   ]
  },
  {
   "cell_type": "markdown",
   "id": "2851137a",
   "metadata": {},
   "source": [
    "# False Values"
   ]
  },
  {
   "cell_type": "code",
   "execution_count": 71,
   "id": "0546dc35",
   "metadata": {},
   "outputs": [],
   "source": [
    "# False\n",
    "# None\n",
    "# Zero of any Numeric Type\n",
    "# Empty Sequence i.e,().[]\n",
    "# Empty Mapping {}"
   ]
  },
  {
   "cell_type": "code",
   "execution_count": 72,
   "id": "f343b62a",
   "metadata": {},
   "outputs": [
    {
     "name": "stdout",
     "output_type": "stream",
     "text": [
      "Evaluated to False\n"
     ]
    }
   ],
   "source": [
    "condition = False\n",
    "if condition:\n",
    "    print('Evaluated to True')\n",
    "else:\n",
    "    print('Evaluated to False')"
   ]
  },
  {
   "cell_type": "code",
   "execution_count": 73,
   "id": "1ae100f3",
   "metadata": {},
   "outputs": [
    {
     "name": "stdout",
     "output_type": "stream",
     "text": [
      "Evaluated to False\n"
     ]
    }
   ],
   "source": [
    "condition = None\n",
    "if condition:\n",
    "    print('Evaluated to True')\n",
    "else:\n",
    "    print('Evaluated to False')"
   ]
  },
  {
   "cell_type": "code",
   "execution_count": 74,
   "id": "59f2a3c8",
   "metadata": {},
   "outputs": [
    {
     "name": "stdout",
     "output_type": "stream",
     "text": [
      "Evaluated to False\n"
     ]
    }
   ],
   "source": [
    "condition = 0\n",
    "if condition:\n",
    "    print('Evaluated to True')\n",
    "else:\n",
    "    print('Evaluated to False')"
   ]
  },
  {
   "cell_type": "code",
   "execution_count": 75,
   "id": "fcc481d3",
   "metadata": {},
   "outputs": [
    {
     "name": "stdout",
     "output_type": "stream",
     "text": [
      "Evaluated to False\n"
     ]
    }
   ],
   "source": [
    "condition = ()\n",
    "if condition:\n",
    "    print('Evaluated to True')\n",
    "else:\n",
    "    print('Evaluated to False')"
   ]
  },
  {
   "cell_type": "code",
   "execution_count": 76,
   "id": "34ba4836",
   "metadata": {},
   "outputs": [
    {
     "name": "stdout",
     "output_type": "stream",
     "text": [
      "Evaluated to False\n"
     ]
    }
   ],
   "source": [
    "condition = []\n",
    "if condition:\n",
    "    print('Evaluated to True')\n",
    "else:\n",
    "    print('Evaluated to False')"
   ]
  },
  {
   "cell_type": "code",
   "execution_count": 77,
   "id": "00dff9b7",
   "metadata": {},
   "outputs": [
    {
     "name": "stdout",
     "output_type": "stream",
     "text": [
      "Evaluated to False\n"
     ]
    }
   ],
   "source": [
    "condition = {}\n",
    "if condition:\n",
    "    print('Evaluated to True')\n",
    "else:\n",
    "    print('Evaluated to False')"
   ]
  },
  {
   "cell_type": "markdown",
   "id": "74f043a2",
   "metadata": {},
   "source": [
    "# Loops & Iterations"
   ]
  },
  {
   "cell_type": "code",
   "execution_count": 78,
   "id": "87d33a5f",
   "metadata": {},
   "outputs": [],
   "source": [
    "nums = [1, 2, 3, 4, 5]"
   ]
  },
  {
   "cell_type": "markdown",
   "id": "a35f8ecf",
   "metadata": {},
   "source": [
    "# For Loop"
   ]
  },
  {
   "cell_type": "code",
   "execution_count": 79,
   "id": "ddc2f379",
   "metadata": {},
   "outputs": [
    {
     "name": "stdout",
     "output_type": "stream",
     "text": [
      "1\n",
      "2\n",
      "3\n",
      "4\n",
      "5\n"
     ]
    }
   ],
   "source": [
    "for num in nums:\n",
    "    print(num)"
   ]
  },
  {
   "cell_type": "code",
   "execution_count": 80,
   "id": "e20046fd",
   "metadata": {},
   "outputs": [
    {
     "name": "stdout",
     "output_type": "stream",
     "text": [
      "1\n",
      "2\n"
     ]
    }
   ],
   "source": [
    "for num in nums:\n",
    "    if num == 3:\n",
    "        break\n",
    "    else:\n",
    "        print(num)"
   ]
  },
  {
   "cell_type": "code",
   "execution_count": 81,
   "id": "68afe23f",
   "metadata": {},
   "outputs": [
    {
     "name": "stdout",
     "output_type": "stream",
     "text": [
      "1\n",
      "2\n",
      "4\n",
      "5\n"
     ]
    }
   ],
   "source": [
    "for num in nums:\n",
    "    if num == 3:\n",
    "        continue\n",
    "    else:\n",
    "        print(num)"
   ]
  },
  {
   "cell_type": "code",
   "execution_count": 82,
   "id": "e6df10b3",
   "metadata": {},
   "outputs": [
    {
     "name": "stdout",
     "output_type": "stream",
     "text": [
      "1 a\n",
      "1 b\n",
      "1 c\n",
      "2 a\n",
      "2 b\n",
      "2 c\n",
      "3 a\n",
      "3 b\n",
      "3 c\n",
      "4 a\n",
      "4 b\n",
      "4 c\n",
      "5 a\n",
      "5 b\n",
      "5 c\n"
     ]
    }
   ],
   "source": [
    "for num in nums:\n",
    "    for letter in 'abc':\n",
    "         print(num,letter)"
   ]
  },
  {
   "cell_type": "code",
   "execution_count": 83,
   "id": "e293f451",
   "metadata": {},
   "outputs": [
    {
     "name": "stdout",
     "output_type": "stream",
     "text": [
      "0\n",
      "1\n",
      "2\n",
      "3\n",
      "4\n",
      "5\n",
      "6\n",
      "7\n",
      "8\n",
      "9\n"
     ]
    }
   ],
   "source": [
    "for i in range(10):\n",
    "    print(i)"
   ]
  },
  {
   "cell_type": "code",
   "execution_count": 84,
   "id": "c7f79eef",
   "metadata": {},
   "outputs": [
    {
     "name": "stdout",
     "output_type": "stream",
     "text": [
      "1\n",
      "2\n",
      "3\n",
      "4\n",
      "5\n",
      "6\n",
      "7\n",
      "8\n",
      "9\n",
      "10\n"
     ]
    }
   ],
   "source": [
    "for i in range(1,11):\n",
    "    print(i)"
   ]
  },
  {
   "cell_type": "markdown",
   "id": "0420e7a2",
   "metadata": {},
   "source": [
    "# Functions"
   ]
  },
  {
   "cell_type": "code",
   "execution_count": 85,
   "id": "f65f7670",
   "metadata": {},
   "outputs": [],
   "source": [
    "# Simple defining the function we cannot leave function empty we just write pass without leaving empty\n",
    "def hello_func():\n",
    "    pass"
   ]
  },
  {
   "cell_type": "code",
   "execution_count": 86,
   "id": "b6b9ec7b",
   "metadata": {},
   "outputs": [
    {
     "name": "stdout",
     "output_type": "stream",
     "text": [
      "None\n"
     ]
    }
   ],
   "source": [
    "print(hello_func()) # Wriiten for function execution"
   ]
  },
  {
   "cell_type": "code",
   "execution_count": 87,
   "id": "d897a46b",
   "metadata": {},
   "outputs": [
    {
     "name": "stdout",
     "output_type": "stream",
     "text": [
      "<function hello_func at 0x00000274375EBF70>\n"
     ]
    }
   ],
   "source": [
    "print(hello_func) # Gives us name of function with Address"
   ]
  },
  {
   "cell_type": "code",
   "execution_count": 88,
   "id": "b1312a97",
   "metadata": {},
   "outputs": [
    {
     "name": "stdout",
     "output_type": "stream",
     "text": [
      "Hello Function\n"
     ]
    }
   ],
   "source": [
    "def hello_func():\n",
    "    print('Hello Function')\n",
    "\n",
    "hello_func()"
   ]
  },
  {
   "cell_type": "code",
   "execution_count": 89,
   "id": "b74103da",
   "metadata": {},
   "outputs": [
    {
     "name": "stdout",
     "output_type": "stream",
     "text": [
      "Hello Function\n",
      "HELLO FUNCTION\n"
     ]
    }
   ],
   "source": [
    "def hello_func():            # if we are returning value we can call the function using print for displaying value\n",
    "    return'Hello Function'\n",
    "\n",
    "hello_func()                # Dispplay Nothing\n",
    "print(hello_func())\n",
    "        # We also use bulit ijn function while calling our function i.e\n",
    "print(hello_func().upper())"
   ]
  },
  {
   "cell_type": "code",
   "execution_count": 90,
   "id": "69da42bb",
   "metadata": {},
   "outputs": [
    {
     "name": "stdout",
     "output_type": "stream",
     "text": [
      "Hi! Function\n"
     ]
    }
   ],
   "source": [
    "def hello_func(greeting):\n",
    "    return'{} Function'.format(greeting)\n",
    "\n",
    "print(hello_func('Hi!')) "
   ]
  },
  {
   "cell_type": "code",
   "execution_count": 91,
   "id": "903efd12",
   "metadata": {},
   "outputs": [
    {
     "name": "stdout",
     "output_type": "stream",
     "text": [
      "Hi! you\n"
     ]
    }
   ],
   "source": [
    "def hello_func(greeting, name='you'):\n",
    "    return'{} {}'.format(greeting, name)\n",
    "\n",
    "print(hello_func('Hi!')) "
   ]
  },
  {
   "cell_type": "code",
   "execution_count": 92,
   "id": "fefdc8f4",
   "metadata": {},
   "outputs": [
    {
     "name": "stdout",
     "output_type": "stream",
     "text": [
      "Hi! Najaf\n"
     ]
    }
   ],
   "source": [
    "def hello_func(greeting, name='you'):\n",
    "    return'{} {}'.format(greeting, name)\n",
    "\n",
    "print(hello_func('Hi!','Najaf')) "
   ]
  },
  {
   "cell_type": "markdown",
   "id": "d955d570",
   "metadata": {},
   "source": [
    "# Important*"
   ]
  },
  {
   "cell_type": "code",
   "execution_count": 93,
   "id": "4dabe1b7",
   "metadata": {},
   "outputs": [
    {
     "name": "stdout",
     "output_type": "stream",
     "text": [
      "('Math', 'Science', 'English')\n",
      "{'name': 'Ali', 'age': 22}\n"
     ]
    }
   ],
   "source": [
    "def std_info(*args, **kwargs):\n",
    "    print(args)     # Student courses in this case\n",
    "    print(kwargs)   # Student Random Info in this case\n",
    "\n",
    "    \n",
    "std_info('Math', 'Science','English', name='Ali', age =22)"
   ]
  },
  {
   "cell_type": "code",
   "execution_count": 94,
   "id": "0cf87e77",
   "metadata": {},
   "outputs": [
    {
     "name": "stdout",
     "output_type": "stream",
     "text": [
      "(['Math', 'Science', 'English'], {'name': 'Ali', 'age': 22})\n",
      "{}\n"
     ]
    }
   ],
   "source": [
    "def std_info(*args, **kwargs):\n",
    "    print(args)     # Student courses in this case\n",
    "    print(kwargs)   # Student Random Info in this case\n",
    "\n",
    "courses = ['Math', 'Science','English']\n",
    "info = {'name': 'Ali', 'age': 22}\n",
    "std_info(courses, info)     # It gives us Wrong Result/Format"
   ]
  },
  {
   "cell_type": "code",
   "execution_count": 95,
   "id": "547f7101",
   "metadata": {},
   "outputs": [
    {
     "name": "stdout",
     "output_type": "stream",
     "text": [
      "('Math', 'Science', 'English')\n",
      "{'name': 'Ali', 'age': 22}\n"
     ]
    }
   ],
   "source": [
    "                          # So Correct Calling is\n",
    "std_info(*courses, **info)"
   ]
  },
  {
   "cell_type": "markdown",
   "id": "a9da70ce",
   "metadata": {},
   "source": [
    "# Lambda / Anonymous Function"
   ]
  },
  {
   "cell_type": "markdown",
   "id": "1a752110",
   "metadata": {},
   "source": [
    "# We use lambda function when we have one line function"
   ]
  },
  {
   "cell_type": "code",
   "execution_count": 96,
   "id": "054fb7a0",
   "metadata": {},
   "outputs": [
    {
     "data": {
      "text/plain": [
       "5"
      ]
     },
     "execution_count": 96,
     "metadata": {},
     "output_type": "execute_result"
    }
   ],
   "source": [
    "# simple function\n",
    "def add(a,b):\n",
    "    return a+b\n",
    "\n",
    "add(2,3)"
   ]
  },
  {
   "cell_type": "code",
   "execution_count": 97,
   "id": "8bfc10c7",
   "metadata": {},
   "outputs": [
    {
     "data": {
      "text/plain": [
       "5"
      ]
     },
     "execution_count": 97,
     "metadata": {},
     "output_type": "execute_result"
    }
   ],
   "source": [
    "# lambda Function\n",
    "\n",
    "add = lambda a,b: a+b\n",
    "\n",
    "add(2,3)"
   ]
  },
  {
   "cell_type": "code",
   "execution_count": null,
   "id": "a2b202c1",
   "metadata": {},
   "outputs": [],
   "source": []
  }
 ],
 "metadata": {
  "kernelspec": {
   "display_name": "Python 3 (ipykernel)",
   "language": "python",
   "name": "python3"
  },
  "language_info": {
   "codemirror_mode": {
    "name": "ipython",
    "version": 3
   },
   "file_extension": ".py",
   "mimetype": "text/x-python",
   "name": "python",
   "nbconvert_exporter": "python",
   "pygments_lexer": "ipython3",
   "version": "3.9.7"
  }
 },
 "nbformat": 4,
 "nbformat_minor": 5
}
